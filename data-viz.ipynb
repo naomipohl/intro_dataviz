{
 "cells": [
  {
   "cell_type": "code",
   "execution_count": 2,
   "metadata": {
    "collapsed": true
   },
   "outputs": [],
   "source": [
    "import numpy as np\n",
    "import pandas as pd\n",
    "import math\n",
    "import matplotlib.pyplot as plt"
   ]
  },
  {
   "cell_type": "code",
   "execution_count": 3,
   "metadata": {
    "collapsed": true
   },
   "outputs": [],
   "source": [
    "plt.style.use('fivethirtyeight')"
   ]
  },
  {
   "cell_type": "code",
   "execution_count": 4,
   "metadata": {
    "collapsed": true
   },
   "outputs": [],
   "source": [
    "# this magic line makes all your plots appear in the notebook! (inline)\n",
    "%matplotlib inline"
   ]
  },
  {
   "cell_type": "markdown",
   "metadata": {},
   "source": [
    "## Example 1: Finding the most dangerous hour of day in Philadelphia"
   ]
  },
  {
   "cell_type": "markdown",
   "metadata": {},
   "source": [
    "The dataset I used can be downloaded here:\n",
    "https://www.opendataphilly.org/dataset/crime-incidents/resource/d6369e07-da6d-401b-bf6e-93fdfacdf24d\n",
    "It's a record of all the crime that's occurred in Philly this year."
   ]
  },
  {
   "cell_type": "code",
   "execution_count": 5,
   "metadata": {},
   "outputs": [
    {
     "data": {
      "text/html": [
       "<div>\n",
       "<style>\n",
       "    .dataframe thead tr:only-child th {\n",
       "        text-align: right;\n",
       "    }\n",
       "\n",
       "    .dataframe thead th {\n",
       "        text-align: left;\n",
       "    }\n",
       "\n",
       "    .dataframe tbody tr th {\n",
       "        vertical-align: top;\n",
       "    }\n",
       "</style>\n",
       "<table border=\"1\" class=\"dataframe\">\n",
       "  <thead>\n",
       "    <tr style=\"text-align: right;\">\n",
       "      <th></th>\n",
       "      <th>cartodb_id</th>\n",
       "      <th>the_geom</th>\n",
       "      <th>the_geom_webmercator</th>\n",
       "      <th>objectid</th>\n",
       "      <th>dc_dist</th>\n",
       "      <th>psa</th>\n",
       "      <th>dispatch_date_time</th>\n",
       "      <th>dispatch_date</th>\n",
       "      <th>dispatch_time</th>\n",
       "      <th>hour_</th>\n",
       "      <th>dc_key</th>\n",
       "      <th>location_block</th>\n",
       "      <th>ucr_general</th>\n",
       "      <th>text_general_code</th>\n",
       "      <th>point_x</th>\n",
       "      <th>point_y</th>\n",
       "      <th>shape</th>\n",
       "    </tr>\n",
       "  </thead>\n",
       "  <tbody>\n",
       "    <tr>\n",
       "      <th>0</th>\n",
       "      <td>1</td>\n",
       "      <td>0101000020E6100000F8EEE23F15CB52C0EE0F10A3D2F6...</td>\n",
       "      <td>0101000020110F0000C5A766CE1BEC5FC141FEBD3CBA85...</td>\n",
       "      <td>340</td>\n",
       "      <td>1</td>\n",
       "      <td>1</td>\n",
       "      <td>2015-12-17 07:26:00</td>\n",
       "      <td>2015-12-17</td>\n",
       "      <td>07:26:00</td>\n",
       "      <td>7</td>\n",
       "      <td>201501056051</td>\n",
       "      <td>1800 BLOCK S CHADWICK ST</td>\n",
       "      <td>1400</td>\n",
       "      <td>Vandalism/Criminal Mischief</td>\n",
       "      <td>-75.173172</td>\n",
       "      <td>39.928303</td>\n",
       "      <td>POINT(-75.17317197 39.92830313)</td>\n",
       "    </tr>\n",
       "    <tr>\n",
       "      <th>1</th>\n",
       "      <td>2</td>\n",
       "      <td>0101000020E61000007A4F69ED0BCB52C06E9C1C5786F6...</td>\n",
       "      <td>0101000020110F0000F89FBBF80BEC5FC1C77C11BD6585...</td>\n",
       "      <td>341</td>\n",
       "      <td>1</td>\n",
       "      <td>1</td>\n",
       "      <td>2015-12-17 11:04:00</td>\n",
       "      <td>2015-12-17</td>\n",
       "      <td>11:04:00</td>\n",
       "      <td>11</td>\n",
       "      <td>201501056080</td>\n",
       "      <td>1500 BLOCK MC KEAN ST</td>\n",
       "      <td>1400</td>\n",
       "      <td>Vandalism/Criminal Mischief</td>\n",
       "      <td>-75.172603</td>\n",
       "      <td>39.925975</td>\n",
       "      <td>POINT(-75.17260299 39.92597474)</td>\n",
       "    </tr>\n",
       "    <tr>\n",
       "      <th>2</th>\n",
       "      <td>3</td>\n",
       "      <td>0101000020E6100000D3C89D8834CB52C0D5E3A5381AF6...</td>\n",
       "      <td>0101000020110F0000A9DC08F250EC5FC160256000EE84...</td>\n",
       "      <td>342</td>\n",
       "      <td>1</td>\n",
       "      <td>1</td>\n",
       "      <td>2015-12-18 22:55:00</td>\n",
       "      <td>2015-12-18</td>\n",
       "      <td>22:55:00</td>\n",
       "      <td>22</td>\n",
       "      <td>201501056360</td>\n",
       "      <td>2200 BLOCK S 17TH ST</td>\n",
       "      <td>1400</td>\n",
       "      <td>Vandalism/Criminal Mischief</td>\n",
       "      <td>-75.175081</td>\n",
       "      <td>39.922675</td>\n",
       "      <td>POINT(-75.1750814 39.92267521)</td>\n",
       "    </tr>\n",
       "    <tr>\n",
       "      <th>3</th>\n",
       "      <td>4</td>\n",
       "      <td>0101000020E6100000E51F85042FCB52C058F92B853CF6...</td>\n",
       "      <td>0101000020110F00008468729347EC5FC1E25B43FC1385...</td>\n",
       "      <td>343</td>\n",
       "      <td>1</td>\n",
       "      <td>1</td>\n",
       "      <td>2015-12-19 00:54:00</td>\n",
       "      <td>2015-12-19</td>\n",
       "      <td>00:54:00</td>\n",
       "      <td>0</td>\n",
       "      <td>201501056375</td>\n",
       "      <td>2200 BLOCK S 17TH ST</td>\n",
       "      <td>1400</td>\n",
       "      <td>Vandalism/Criminal Mischief</td>\n",
       "      <td>-75.174745</td>\n",
       "      <td>39.923722</td>\n",
       "      <td>POINT(-75.17474473 39.92372193)</td>\n",
       "    </tr>\n",
       "    <tr>\n",
       "      <th>4</th>\n",
       "      <td>5</td>\n",
       "      <td>0101000020E61000007CD13F3D0DCB52C04961410E88F6...</td>\n",
       "      <td>0101000020110F00005BFA2F330EEC5FC18DA369A36785...</td>\n",
       "      <td>344</td>\n",
       "      <td>1</td>\n",
       "      <td>1</td>\n",
       "      <td>2015-12-20 01:07:00</td>\n",
       "      <td>2015-12-20</td>\n",
       "      <td>01:07:00</td>\n",
       "      <td>1</td>\n",
       "      <td>201501056502</td>\n",
       "      <td>S 16TH ST / MC KEAN ST</td>\n",
       "      <td>1400</td>\n",
       "      <td>Vandalism/Criminal Mischief</td>\n",
       "      <td>-75.172683</td>\n",
       "      <td>39.926027</td>\n",
       "      <td>POINT(-75.17268306 39.92602709)</td>\n",
       "    </tr>\n",
       "  </tbody>\n",
       "</table>\n",
       "</div>"
      ],
      "text/plain": [
       "   cartodb_id                                           the_geom  \\\n",
       "0           1  0101000020E6100000F8EEE23F15CB52C0EE0F10A3D2F6...   \n",
       "1           2  0101000020E61000007A4F69ED0BCB52C06E9C1C5786F6...   \n",
       "2           3  0101000020E6100000D3C89D8834CB52C0D5E3A5381AF6...   \n",
       "3           4  0101000020E6100000E51F85042FCB52C058F92B853CF6...   \n",
       "4           5  0101000020E61000007CD13F3D0DCB52C04961410E88F6...   \n",
       "\n",
       "                                the_geom_webmercator  objectid  dc_dist psa  \\\n",
       "0  0101000020110F0000C5A766CE1BEC5FC141FEBD3CBA85...       340        1   1   \n",
       "1  0101000020110F0000F89FBBF80BEC5FC1C77C11BD6585...       341        1   1   \n",
       "2  0101000020110F0000A9DC08F250EC5FC160256000EE84...       342        1   1   \n",
       "3  0101000020110F00008468729347EC5FC1E25B43FC1385...       343        1   1   \n",
       "4  0101000020110F00005BFA2F330EEC5FC18DA369A36785...       344        1   1   \n",
       "\n",
       "    dispatch_date_time dispatch_date dispatch_time  hour_        dc_key  \\\n",
       "0  2015-12-17 07:26:00    2015-12-17      07:26:00      7  201501056051   \n",
       "1  2015-12-17 11:04:00    2015-12-17      11:04:00     11  201501056080   \n",
       "2  2015-12-18 22:55:00    2015-12-18      22:55:00     22  201501056360   \n",
       "3  2015-12-19 00:54:00    2015-12-19      00:54:00      0  201501056375   \n",
       "4  2015-12-20 01:07:00    2015-12-20      01:07:00      1  201501056502   \n",
       "\n",
       "             location_block  ucr_general            text_general_code  \\\n",
       "0  1800 BLOCK S CHADWICK ST         1400  Vandalism/Criminal Mischief   \n",
       "1     1500 BLOCK MC KEAN ST         1400  Vandalism/Criminal Mischief   \n",
       "2      2200 BLOCK S 17TH ST         1400  Vandalism/Criminal Mischief   \n",
       "3      2200 BLOCK S 17TH ST         1400  Vandalism/Criminal Mischief   \n",
       "4    S 16TH ST / MC KEAN ST         1400  Vandalism/Criminal Mischief   \n",
       "\n",
       "     point_x    point_y                            shape  \n",
       "0 -75.173172  39.928303  POINT(-75.17317197 39.92830313)  \n",
       "1 -75.172603  39.925975  POINT(-75.17260299 39.92597474)  \n",
       "2 -75.175081  39.922675   POINT(-75.1750814 39.92267521)  \n",
       "3 -75.174745  39.923722  POINT(-75.17474473 39.92372193)  \n",
       "4 -75.172683  39.926027  POINT(-75.17268306 39.92602709)  "
      ]
     },
     "execution_count": 5,
     "metadata": {},
     "output_type": "execute_result"
    }
   ],
   "source": [
    "crime_data = pd.read_csv('/Users/naomi/Downloads/cartodb-query.csv')\n",
    "crime_data.head()"
   ]
  },
  {
   "cell_type": "code",
   "execution_count": 6,
   "metadata": {},
   "outputs": [
    {
     "data": {
      "text/html": [
       "<div>\n",
       "<style>\n",
       "    .dataframe thead tr:only-child th {\n",
       "        text-align: right;\n",
       "    }\n",
       "\n",
       "    .dataframe thead th {\n",
       "        text-align: left;\n",
       "    }\n",
       "\n",
       "    .dataframe tbody tr th {\n",
       "        vertical-align: top;\n",
       "    }\n",
       "</style>\n",
       "<table border=\"1\" class=\"dataframe\">\n",
       "  <thead>\n",
       "    <tr style=\"text-align: right;\">\n",
       "      <th></th>\n",
       "      <th>dc_key</th>\n",
       "    </tr>\n",
       "    <tr>\n",
       "      <th>hour_</th>\n",
       "      <th></th>\n",
       "    </tr>\n",
       "  </thead>\n",
       "  <tbody>\n",
       "    <tr>\n",
       "      <th>0</th>\n",
       "      <td>28</td>\n",
       "    </tr>\n",
       "    <tr>\n",
       "      <th>1</th>\n",
       "      <td>18</td>\n",
       "    </tr>\n",
       "    <tr>\n",
       "      <th>2</th>\n",
       "      <td>24</td>\n",
       "    </tr>\n",
       "    <tr>\n",
       "      <th>3</th>\n",
       "      <td>11</td>\n",
       "    </tr>\n",
       "    <tr>\n",
       "      <th>4</th>\n",
       "      <td>10</td>\n",
       "    </tr>\n",
       "  </tbody>\n",
       "</table>\n",
       "</div>"
      ],
      "text/plain": [
       "       dc_key\n",
       "hour_        \n",
       "0          28\n",
       "1          18\n",
       "2          24\n",
       "3          11\n",
       "4          10"
      ]
     },
     "execution_count": 6,
     "metadata": {},
     "output_type": "execute_result"
    }
   ],
   "source": [
    "# create a pivot table to count the number of rows per hour of day\n",
    "count_table = crime_data.pivot_table('dc_key', index = 'hour_', aggfunc = 'count')\n",
    "count_table.head()"
   ]
  },
  {
   "cell_type": "code",
   "execution_count": 7,
   "metadata": {},
   "outputs": [
    {
     "data": {
      "image/png": "[encoded data removed]",
      "text/plain": [
       "<matplotlib.figure.Figure at 0x10d26e898>"
      ]
     },
     "metadata": {},
     "output_type": "display_data"
    }
   ],
   "source": [
    "#size the figure\n",
    "plt.figure(figsize=(10,8))\n",
    "\n",
    "# make a line graph\n",
    "plt.plot(count_table, 'o-', markersize = 5, label = '# of Incidents', color = 'purple')\n",
    "plt.legend(loc = (0.1, 0.8))\n",
    "\n",
    "# give the graph a title\n",
    "plt.title('Philadelphia Crime Incidents by Hour of Day')\n",
    "\n",
    "# label the axes\n",
    "plt.xlabel('Hour of Day')\n",
    "plt.ylabel('# of Crime Reports')\n",
    "\n",
    "#specify the axis. both limits and the tick marks\n",
    "plt.xlim(0, 23)\n",
    "_ = plt.xticks(np.arange(0, 23, 1))"
   ]
  },
  {
   "cell_type": "code",
   "execution_count": 8,
   "metadata": {},
   "outputs": [
    {
     "data": {
      "text/html": [
       "<div>\n",
       "<style>\n",
       "    .dataframe thead tr:only-child th {\n",
       "        text-align: right;\n",
       "    }\n",
       "\n",
       "    .dataframe thead th {\n",
       "        text-align: left;\n",
       "    }\n",
       "\n",
       "    .dataframe tbody tr th {\n",
       "        vertical-align: top;\n",
       "    }\n",
       "</style>\n",
       "<table border=\"1\" class=\"dataframe\">\n",
       "  <thead>\n",
       "    <tr style=\"text-align: right;\">\n",
       "      <th></th>\n",
       "      <th>dc_key</th>\n",
       "    </tr>\n",
       "    <tr>\n",
       "      <th>hour_</th>\n",
       "      <th></th>\n",
       "    </tr>\n",
       "  </thead>\n",
       "  <tbody>\n",
       "    <tr>\n",
       "      <th>16</th>\n",
       "      <td>80</td>\n",
       "    </tr>\n",
       "  </tbody>\n",
       "</table>\n",
       "</div>"
      ],
      "text/plain": [
       "       dc_key\n",
       "hour_        \n",
       "16         80"
      ]
     },
     "execution_count": 8,
     "metadata": {},
     "output_type": "execute_result"
    }
   ],
   "source": [
    "# find the hour of day that is most dangerous\n",
    "count_table.sort_values('dc_key', ascending = False)[:1]"
   ]
  },
  {
   "cell_type": "markdown",
   "metadata": {},
   "source": [
    "The most dangerous hour of the day is hour 16, which corresponds to 4pm"
   ]
  },
  {
   "cell_type": "markdown",
   "metadata": {},
   "source": [
    "## Example 2: Creating a Histogram from world population data"
   ]
  },
  {
   "cell_type": "code",
   "execution_count": 9,
   "metadata": {},
   "outputs": [
    {
     "data": {
      "text/html": [
       "<div>\n",
       "<style>\n",
       "    .dataframe thead tr:only-child th {\n",
       "        text-align: right;\n",
       "    }\n",
       "\n",
       "    .dataframe thead th {\n",
       "        text-align: left;\n",
       "    }\n",
       "\n",
       "    .dataframe tbody tr th {\n",
       "        vertical-align: top;\n",
       "    }\n",
       "</style>\n",
       "<table border=\"1\" class=\"dataframe\">\n",
       "  <thead>\n",
       "    <tr style=\"text-align: right;\">\n",
       "      <th></th>\n",
       "      <th>name</th>\n",
       "      <th>births in 2014</th>\n",
       "      <th>billionaires</th>\n",
       "      <th>government debt</th>\n",
       "      <th>private wealth (bn)</th>\n",
       "      <th>population</th>\n",
       "      <th>gdp (bn)</th>\n",
       "    </tr>\n",
       "  </thead>\n",
       "  <tbody>\n",
       "    <tr>\n",
       "      <th>0</th>\n",
       "      <td>Afghanistan</td>\n",
       "      <td>1111000</td>\n",
       "      <td>0</td>\n",
       "      <td>1.3</td>\n",
       "      <td>0</td>\n",
       "      <td>32674000</td>\n",
       "      <td>20.3</td>\n",
       "    </tr>\n",
       "    <tr>\n",
       "      <th>1</th>\n",
       "      <td>Albania</td>\n",
       "      <td>42000</td>\n",
       "      <td>0</td>\n",
       "      <td>8.9</td>\n",
       "      <td>23</td>\n",
       "      <td>3229000</td>\n",
       "      <td>12.9</td>\n",
       "    </tr>\n",
       "    <tr>\n",
       "      <th>2</th>\n",
       "      <td>Algeria</td>\n",
       "      <td>895000</td>\n",
       "      <td>0</td>\n",
       "      <td>18.4</td>\n",
       "      <td>247</td>\n",
       "      <td>37291000</td>\n",
       "      <td>210.2</td>\n",
       "    </tr>\n",
       "    <tr>\n",
       "      <th>3</th>\n",
       "      <td>Angola</td>\n",
       "      <td>918000</td>\n",
       "      <td>0</td>\n",
       "      <td>38.5</td>\n",
       "      <td>141</td>\n",
       "      <td>20860000</td>\n",
       "      <td>124.2</td>\n",
       "    </tr>\n",
       "    <tr>\n",
       "      <th>4</th>\n",
       "      <td>Argentina</td>\n",
       "      <td>714000</td>\n",
       "      <td>7</td>\n",
       "      <td>283.7</td>\n",
       "      <td>301</td>\n",
       "      <td>41993000</td>\n",
       "      <td>622.1</td>\n",
       "    </tr>\n",
       "  </tbody>\n",
       "</table>\n",
       "</div>"
      ],
      "text/plain": [
       "          name  births in 2014  billionaires  government debt  \\\n",
       "0  Afghanistan         1111000             0              1.3   \n",
       "1      Albania           42000             0              8.9   \n",
       "2      Algeria          895000             0             18.4   \n",
       "3       Angola          918000             0             38.5   \n",
       "4    Argentina          714000             7            283.7   \n",
       "\n",
       "   private wealth (bn)  population  gdp (bn)  \n",
       "0                    0    32674000      20.3  \n",
       "1                   23     3229000      12.9  \n",
       "2                  247    37291000     210.2  \n",
       "3                  141    20860000     124.2  \n",
       "4                  301    41993000     622.1  "
      ]
     },
     "execution_count": 9,
     "metadata": {},
     "output_type": "execute_result"
    }
   ],
   "source": [
    "world_data = pd.read_csv('/Users/naomi/Downloads/world-data.csv')\n",
    "world_data.head()\n",
    "# this data can be obtained from a site like http://www.worldpopdata.org/\n",
    "# or https://en.wikipedia.org/wiki/List_of_countries_and_dependencies_by_population"
   ]
  },
  {
   "cell_type": "code",
   "execution_count": 10,
   "metadata": {},
   "outputs": [
    {
     "data": {
      "text/plain": [
       "(array([], dtype=int64),)"
      ]
     },
     "execution_count": 10,
     "metadata": {},
     "output_type": "execute_result"
    }
   ],
   "source": [
    "# check for null values\n",
    "np.where(world_data['population'].isnull())"
   ]
  },
  {
   "cell_type": "code",
   "execution_count": 11,
   "metadata": {
    "collapsed": true
   },
   "outputs": [],
   "source": [
    "# drop NaN values\n",
    "world_data = world_data.dropna()"
   ]
  },
  {
   "cell_type": "code",
   "execution_count": 12,
   "metadata": {},
   "outputs": [
    {
     "data": {
      "text/plain": [
       "<matplotlib.axes._subplots.AxesSubplot at 0x10d919518>"
      ]
     },
     "execution_count": 12,
     "metadata": {},
     "output_type": "execute_result"
    },
    {
     "data": {
      "image/png": "[encoded data removed]",
      "text/plain": [
       "<matplotlib.figure.Figure at 0x10ddce7f0>"
      ]
     },
     "metadata": {},
     "output_type": "display_data"
    }
   ],
   "source": [
    "# let matlibplot choose the histogram bins\n",
    "world_data['population'].hist(figsize=(10,6),color='green')"
   ]
  },
  {
   "cell_type": "code",
   "execution_count": 13,
   "metadata": {},
   "outputs": [
    {
     "data": {
      "text/html": [
       "<div>\n",
       "<style>\n",
       "    .dataframe thead tr:only-child th {\n",
       "        text-align: right;\n",
       "    }\n",
       "\n",
       "    .dataframe thead th {\n",
       "        text-align: left;\n",
       "    }\n",
       "\n",
       "    .dataframe tbody tr th {\n",
       "        vertical-align: top;\n",
       "    }\n",
       "</style>\n",
       "<table border=\"1\" class=\"dataframe\">\n",
       "  <thead>\n",
       "    <tr style=\"text-align: right;\">\n",
       "      <th></th>\n",
       "      <th>name</th>\n",
       "      <th>births in 2014</th>\n",
       "      <th>billionaires</th>\n",
       "      <th>government debt</th>\n",
       "      <th>private wealth (bn)</th>\n",
       "      <th>population</th>\n",
       "      <th>gdp (bn)</th>\n",
       "    </tr>\n",
       "  </thead>\n",
       "  <tbody>\n",
       "    <tr>\n",
       "      <th>31</th>\n",
       "      <td>China</td>\n",
       "      <td>16329000</td>\n",
       "      <td>272</td>\n",
       "      <td>2125.9</td>\n",
       "      <td>21404</td>\n",
       "      <td>1360724000</td>\n",
       "      <td>9490.6</td>\n",
       "    </tr>\n",
       "    <tr>\n",
       "      <th>68</th>\n",
       "      <td>India</td>\n",
       "      <td>25416000</td>\n",
       "      <td>100</td>\n",
       "      <td>1260.8</td>\n",
       "      <td>3604</td>\n",
       "      <td>1270819000</td>\n",
       "      <td>1861.8</td>\n",
       "    </tr>\n",
       "    <tr>\n",
       "      <th>158</th>\n",
       "      <td>United States</td>\n",
       "      <td>4264000</td>\n",
       "      <td>571</td>\n",
       "      <td>17024.7</td>\n",
       "      <td>83708</td>\n",
       "      <td>327985000</td>\n",
       "      <td>16768.1</td>\n",
       "    </tr>\n",
       "    <tr>\n",
       "      <th>69</th>\n",
       "      <td>Indonesia</td>\n",
       "      <td>4576000</td>\n",
       "      <td>19</td>\n",
       "      <td>227.8</td>\n",
       "      <td>1550</td>\n",
       "      <td>240868000</td>\n",
       "      <td>910.5</td>\n",
       "    </tr>\n",
       "    <tr>\n",
       "      <th>19</th>\n",
       "      <td>Brazil</td>\n",
       "      <td>3012000</td>\n",
       "      <td>61</td>\n",
       "      <td>1409.2</td>\n",
       "      <td>3194</td>\n",
       "      <td>200777000</td>\n",
       "      <td>2392.1</td>\n",
       "    </tr>\n",
       "  </tbody>\n",
       "</table>\n",
       "</div>"
      ],
      "text/plain": [
       "              name  births in 2014  billionaires  government debt  \\\n",
       "31           China        16329000           272           2125.9   \n",
       "68           India        25416000           100           1260.8   \n",
       "158  United States         4264000           571          17024.7   \n",
       "69       Indonesia         4576000            19            227.8   \n",
       "19          Brazil         3012000            61           1409.2   \n",
       "\n",
       "     private wealth (bn)  population  gdp (bn)  \n",
       "31                 21404  1360724000    9490.6  \n",
       "68                  3604  1270819000    1861.8  \n",
       "158                83708   327985000   16768.1  \n",
       "69                  1550   240868000     910.5  \n",
       "19                  3194   200777000    2392.1  "
      ]
     },
     "execution_count": 13,
     "metadata": {},
     "output_type": "execute_result"
    }
   ],
   "source": [
    "# see what countries are represented by the outliers at the right end of the histogram\n",
    "world_sorted = world_data.sort_values('population', ascending = False)\n",
    "world_sorted.head()"
   ]
  },
  {
   "cell_type": "markdown",
   "metadata": {},
   "source": [
    "This dataset has 2 outliers (China & India)"
   ]
  },
  {
   "cell_type": "code",
   "execution_count": 14,
   "metadata": {},
   "outputs": [
    {
     "data": {
      "text/html": [
       "<div>\n",
       "<style>\n",
       "    .dataframe thead tr:only-child th {\n",
       "        text-align: right;\n",
       "    }\n",
       "\n",
       "    .dataframe thead th {\n",
       "        text-align: left;\n",
       "    }\n",
       "\n",
       "    .dataframe tbody tr th {\n",
       "        vertical-align: top;\n",
       "    }\n",
       "</style>\n",
       "<table border=\"1\" class=\"dataframe\">\n",
       "  <thead>\n",
       "    <tr style=\"text-align: right;\">\n",
       "      <th></th>\n",
       "      <th>name</th>\n",
       "      <th>births in 2014</th>\n",
       "      <th>billionaires</th>\n",
       "      <th>government debt</th>\n",
       "      <th>private wealth (bn)</th>\n",
       "      <th>population</th>\n",
       "      <th>gdp (bn)</th>\n",
       "    </tr>\n",
       "  </thead>\n",
       "  <tbody>\n",
       "    <tr>\n",
       "      <th>158</th>\n",
       "      <td>United States</td>\n",
       "      <td>4264000</td>\n",
       "      <td>571</td>\n",
       "      <td>17024.7</td>\n",
       "      <td>83708</td>\n",
       "      <td>327985000</td>\n",
       "      <td>16768.1</td>\n",
       "    </tr>\n",
       "    <tr>\n",
       "      <th>69</th>\n",
       "      <td>Indonesia</td>\n",
       "      <td>4576000</td>\n",
       "      <td>19</td>\n",
       "      <td>227.8</td>\n",
       "      <td>1550</td>\n",
       "      <td>240868000</td>\n",
       "      <td>910.5</td>\n",
       "    </tr>\n",
       "    <tr>\n",
       "      <th>19</th>\n",
       "      <td>Brazil</td>\n",
       "      <td>3012000</td>\n",
       "      <td>61</td>\n",
       "      <td>1409.2</td>\n",
       "      <td>3194</td>\n",
       "      <td>200777000</td>\n",
       "      <td>2392.1</td>\n",
       "    </tr>\n",
       "    <tr>\n",
       "      <th>114</th>\n",
       "      <td>Pakistan</td>\n",
       "      <td>4980000</td>\n",
       "      <td>0</td>\n",
       "      <td>149.4</td>\n",
       "      <td>477</td>\n",
       "      <td>199206000</td>\n",
       "      <td>232.3</td>\n",
       "    </tr>\n",
       "    <tr>\n",
       "      <th>10</th>\n",
       "      <td>Bangladesh</td>\n",
       "      <td>3440000</td>\n",
       "      <td>0</td>\n",
       "      <td>27.0</td>\n",
       "      <td>212</td>\n",
       "      <td>172019000</td>\n",
       "      <td>150.0</td>\n",
       "    </tr>\n",
       "  </tbody>\n",
       "</table>\n",
       "</div>"
      ],
      "text/plain": [
       "              name  births in 2014  billionaires  government debt  \\\n",
       "158  United States         4264000           571          17024.7   \n",
       "69       Indonesia         4576000            19            227.8   \n",
       "19          Brazil         3012000            61           1409.2   \n",
       "114       Pakistan         4980000             0            149.4   \n",
       "10      Bangladesh         3440000             0             27.0   \n",
       "\n",
       "     private wealth (bn)  population  gdp (bn)  \n",
       "158                83708   327985000   16768.1  \n",
       "69                  1550   240868000     910.5  \n",
       "19                  3194   200777000    2392.1  \n",
       "114                  477   199206000     232.3  \n",
       "10                   212   172019000     150.0  "
      ]
     },
     "execution_count": 14,
     "metadata": {},
     "output_type": "execute_result"
    }
   ],
   "source": [
    "# remove the outliers (China & India) so our data can tell a better story\n",
    "no_outliers = world_sorted.drop(world_sorted.index[[0,1]])\n",
    "no_outliers.head()"
   ]
  },
  {
   "cell_type": "code",
   "execution_count": 15,
   "metadata": {},
   "outputs": [
    {
     "data": {
      "text/plain": [
       "<matplotlib.axes._subplots.AxesSubplot at 0x10d8d9d68>"
      ]
     },
     "execution_count": 15,
     "metadata": {},
     "output_type": "execute_result"
    },
    {
     "data": {
      "image/png": "[encoded data removed]",
      "text/plain": [
       "<matplotlib.figure.Figure at 0x10ddad6a0>"
      ]
     },
     "metadata": {},
     "output_type": "display_data"
    }
   ],
   "source": [
    "# let matlibplot choose the histogram bins again\n",
    "no_outliers['population'].hist(figsize=(10,6),color='orange')"
   ]
  },
  {
   "cell_type": "code",
   "execution_count": 16,
   "metadata": {},
   "outputs": [
    {
     "data": {
      "image/png": "[encoded data removed]",
      "text/plain": [
       "<matplotlib.figure.Figure at 0x10ddceef0>"
      ]
     },
     "metadata": {},
     "output_type": "display_data"
    }
   ],
   "source": [
    "# choose our own bins for the data without outliers\n",
    "plt.figure(figsize = (15,8))\n",
    "plt.title('World Population, Excluding Outliers')\n",
    "plt.xticks(np.arange(0, 3.4e8, 20000000))\n",
    "n, bins, patches = plt.hist(no_outliers['population'],bins=np.arange(0,3.4e8,0.08e8),color='magenta')\n",
    "plt.xlabel('Population (millions)')\n",
    "plt.ylabel('Frequency')\n",
    "plt.grid('on')"
   ]
  },
  {
   "cell_type": "code",
   "execution_count": 17,
   "metadata": {},
   "outputs": [
    {
     "data": {
      "image/png": "[encoded data removed]",
      "text/plain": [
       "<matplotlib.figure.Figure at 0x10d906cf8>"
      ]
     },
     "metadata": {},
     "output_type": "display_data"
    }
   ],
   "source": [
    "# now make a plot including the outliers (China & India)\n",
    "plt.figure(figsize = (15,8))\n",
    "plt.title('World Population, Including Outliers')\n",
    "plt.xticks(np.arange(0, 1.4e9, 200000000))\n",
    "n, bins, patches = plt.hist(world_data['population'],bins=np.arange(0,1.4e9,0.2e8),color='navy')\n",
    "plt.xlabel('Population (billions)')\n",
    "plt.ylabel('Frequency')\n",
    "plt.grid('on')"
   ]
  },
  {
   "cell_type": "markdown",
   "metadata": {},
   "source": [
    "## Example 3: Pie chart of Philadelphia school types"
   ]
  },
  {
   "cell_type": "markdown",
   "metadata": {},
   "source": [
    "Draw a pie chart of the # of different schools in the city sliced by different education levels. Categorize the data as Elementary, Middle, High and Other. No other categories allowed. If a school offers both elementary education and middle school education it should be counted in both of those categories.\n",
    "\n",
    "Dataset obtained from: https://www.opendataphilly.org/dataset/schools/resource/8e1bb3e6-7fb5-4018-95f8-63b3fc420557"
   ]
  },
  {
   "cell_type": "code",
   "execution_count": 18,
   "metadata": {},
   "outputs": [
    {
     "data": {
      "text/html": [
       "<div>\n",
       "<style>\n",
       "    .dataframe thead tr:only-child th {\n",
       "        text-align: right;\n",
       "    }\n",
       "\n",
       "    .dataframe thead th {\n",
       "        text-align: left;\n",
       "    }\n",
       "\n",
       "    .dataframe tbody tr th {\n",
       "        vertical-align: top;\n",
       "    }\n",
       "</style>\n",
       "<table border=\"1\" class=\"dataframe\">\n",
       "  <thead>\n",
       "    <tr style=\"text-align: right;\">\n",
       "      <th></th>\n",
       "      <th>X</th>\n",
       "      <th>Y</th>\n",
       "      <th>OBJECTID</th>\n",
       "      <th>AUN</th>\n",
       "      <th>SCHOOL_NUM</th>\n",
       "      <th>LOCATION_ID</th>\n",
       "      <th>FACIL_NAME</th>\n",
       "      <th>FACILNAME_LABEL</th>\n",
       "      <th>FACIL_ADDRESS</th>\n",
       "      <th>ZIPCODE</th>\n",
       "      <th>FACIL_TELEPHONE</th>\n",
       "      <th>ACTIVE</th>\n",
       "      <th>GRADE_LEVEL</th>\n",
       "      <th>GRADE_ORG</th>\n",
       "      <th>ENROLLMENT</th>\n",
       "      <th>TYPE</th>\n",
       "      <th>TYPE_SPECIFIC</th>\n",
       "    </tr>\n",
       "  </thead>\n",
       "  <tbody>\n",
       "    <tr>\n",
       "      <th>0</th>\n",
       "      <td>-75.194310</td>\n",
       "      <td>39.966598</td>\n",
       "      <td>1</td>\n",
       "      <td>126515001.0</td>\n",
       "      <td>3611.0</td>\n",
       "      <td>1360.0</td>\n",
       "      <td>Morton McMichael School</td>\n",
       "      <td>McMichael, Morton</td>\n",
       "      <td>3543 Fairmount Ave</td>\n",
       "      <td>19104 - 1906</td>\n",
       "      <td>(215) 400-7750</td>\n",
       "      <td>Open</td>\n",
       "      <td>Elem/Middle</td>\n",
       "      <td>K-8</td>\n",
       "      <td>405.0</td>\n",
       "      <td>District</td>\n",
       "      <td>District</td>\n",
       "    </tr>\n",
       "    <tr>\n",
       "      <th>1</th>\n",
       "      <td>-75.216405</td>\n",
       "      <td>39.954368</td>\n",
       "      <td>2</td>\n",
       "      <td>126515001.0</td>\n",
       "      <td>6530.0</td>\n",
       "      <td>1340.0</td>\n",
       "      <td>Henry C Lea School</td>\n",
       "      <td>Lea, Henry C.</td>\n",
       "      <td>4700 Locust St.</td>\n",
       "      <td>19139 - 4416</td>\n",
       "      <td>(215) 400-7660</td>\n",
       "      <td>Open</td>\n",
       "      <td>Elem/Middle</td>\n",
       "      <td>K-8</td>\n",
       "      <td>527.0</td>\n",
       "      <td>District</td>\n",
       "      <td>District</td>\n",
       "    </tr>\n",
       "    <tr>\n",
       "      <th>2</th>\n",
       "      <td>-75.156100</td>\n",
       "      <td>39.929828</td>\n",
       "      <td>3</td>\n",
       "      <td>126515001.0</td>\n",
       "      <td>3647.0</td>\n",
       "      <td>2580.0</td>\n",
       "      <td>Eliza B Kirkbride School</td>\n",
       "      <td>Kirkbride, Elizabeth B.</td>\n",
       "      <td>1501 S 7th St</td>\n",
       "      <td>19147 - 6410</td>\n",
       "      <td>(215) 952-6214</td>\n",
       "      <td>Open</td>\n",
       "      <td>Elem/Middle</td>\n",
       "      <td>K-8</td>\n",
       "      <td>556.0</td>\n",
       "      <td>District</td>\n",
       "      <td>District</td>\n",
       "    </tr>\n",
       "    <tr>\n",
       "      <th>3</th>\n",
       "      <td>-75.181226</td>\n",
       "      <td>39.929387</td>\n",
       "      <td>4</td>\n",
       "      <td>126515001.0</td>\n",
       "      <td>3629.0</td>\n",
       "      <td>2370.0</td>\n",
       "      <td>Delaplaine McDaniel School</td>\n",
       "      <td>McDaniel, Delaplaine</td>\n",
       "      <td>1801 S 22nd St</td>\n",
       "      <td>19145 - 1933</td>\n",
       "      <td>(215) 952-6380</td>\n",
       "      <td>Open</td>\n",
       "      <td>Elem/Middle</td>\n",
       "      <td>K-8</td>\n",
       "      <td>603.0</td>\n",
       "      <td>District</td>\n",
       "      <td>District</td>\n",
       "    </tr>\n",
       "    <tr>\n",
       "      <th>4</th>\n",
       "      <td>-75.160571</td>\n",
       "      <td>39.920896</td>\n",
       "      <td>5</td>\n",
       "      <td>126515001.0</td>\n",
       "      <td>7228.0</td>\n",
       "      <td>2540.0</td>\n",
       "      <td>Francis Scott Key School</td>\n",
       "      <td>Key, Francis Scott</td>\n",
       "      <td>2230 S 8th St</td>\n",
       "      <td>19148 - 3101</td>\n",
       "      <td>(215) 952-6216</td>\n",
       "      <td>Open</td>\n",
       "      <td>Elementary School</td>\n",
       "      <td>K-6</td>\n",
       "      <td>467.0</td>\n",
       "      <td>District</td>\n",
       "      <td>District</td>\n",
       "    </tr>\n",
       "  </tbody>\n",
       "</table>\n",
       "</div>"
      ],
      "text/plain": [
       "           X          Y  OBJECTID          AUN  SCHOOL_NUM  LOCATION_ID  \\\n",
       "0 -75.194310  39.966598         1  126515001.0      3611.0       1360.0   \n",
       "1 -75.216405  39.954368         2  126515001.0      6530.0       1340.0   \n",
       "2 -75.156100  39.929828         3  126515001.0      3647.0       2580.0   \n",
       "3 -75.181226  39.929387         4  126515001.0      3629.0       2370.0   \n",
       "4 -75.160571  39.920896         5  126515001.0      7228.0       2540.0   \n",
       "\n",
       "                   FACIL_NAME          FACILNAME_LABEL       FACIL_ADDRESS  \\\n",
       "0     Morton McMichael School        McMichael, Morton  3543 Fairmount Ave   \n",
       "1          Henry C Lea School            Lea, Henry C.     4700 Locust St.   \n",
       "2    Eliza B Kirkbride School  Kirkbride, Elizabeth B.       1501 S 7th St   \n",
       "3  Delaplaine McDaniel School     McDaniel, Delaplaine      1801 S 22nd St   \n",
       "4    Francis Scott Key School       Key, Francis Scott       2230 S 8th St   \n",
       "\n",
       "        ZIPCODE FACIL_TELEPHONE ACTIVE        GRADE_LEVEL GRADE_ORG  \\\n",
       "0  19104 - 1906  (215) 400-7750   Open        Elem/Middle       K-8   \n",
       "1  19139 - 4416  (215) 400-7660   Open        Elem/Middle       K-8   \n",
       "2  19147 - 6410  (215) 952-6214   Open        Elem/Middle       K-8   \n",
       "3  19145 - 1933  (215) 952-6380   Open        Elem/Middle       K-8   \n",
       "4  19148 - 3101  (215) 952-6216   Open  Elementary School       K-6   \n",
       "\n",
       "   ENROLLMENT      TYPE TYPE_SPECIFIC  \n",
       "0       405.0  District      District  \n",
       "1       527.0  District      District  \n",
       "2       556.0  District      District  \n",
       "3       603.0  District      District  \n",
       "4       467.0  District      District  "
      ]
     },
     "execution_count": 18,
     "metadata": {},
     "output_type": "execute_result"
    }
   ],
   "source": [
    "schools = pd.read_csv('/Users/naomi/Downloads/Schools.csv')\n",
    "schools.head()"
   ]
  },
  {
   "cell_type": "code",
   "execution_count": 19,
   "metadata": {
    "collapsed": true
   },
   "outputs": [],
   "source": [
    "# do some data cleaning!\n",
    "\n",
    "# first get rid of NaN values in the GRADE_LEVEL column\n",
    "schools = schools.dropna(subset = ['GRADE_LEVEL'])"
   ]
  },
  {
   "cell_type": "code",
   "execution_count": 20,
   "metadata": {},
   "outputs": [
    {
     "data": {
      "text/plain": [
       "array(['Elem/Middle', 'Elementary School', 'Special Center',\n",
       "       'Middle School', 'High School', 'Middle/High',\n",
       "       'Remedial Discipline', 'Elem/Mid/High', 'Elementary',\n",
       "       'Kindergarten', 'Ungraded', 'Vo-tech', 'Pre-K', 'Pre-school',\n",
       "       'Elem/Middle/High', 'Middle/High School', 'Tutoring', 'Preschool',\n",
       "       'Therapeutic'], dtype=object)"
      ]
     },
     "execution_count": 20,
     "metadata": {},
     "output_type": "execute_result"
    }
   ],
   "source": [
    "# then find the unique types of schools in Philly\n",
    "schools.GRADE_LEVEL.unique()"
   ]
  },
  {
   "cell_type": "code",
   "execution_count": 21,
   "metadata": {
    "collapsed": true
   },
   "outputs": [],
   "source": [
    "# make a function that returns the school type in a standardized fashion\n",
    "\n",
    "def get_level(school):\n",
    "    if school == 'Middle School':\n",
    "        return 'Middle'\n",
    "    elif school == 'High School':\n",
    "        return 'High'\n",
    "    elif school == 'Elementary School':\n",
    "        return 'Elementary'\n",
    "    elif school == 'Elem/Middle':\n",
    "        return 'Elem/Middle'\n",
    "    elif school == ('Middle/High' or 'Middle/High School'):\n",
    "        return 'Middle/High'\n",
    "    elif school == ('Elem/Mid/High' or 'Elem/Middle/High'):\n",
    "        return 'All'\n",
    "    else:\n",
    "        return 'Other'"
   ]
  },
  {
   "cell_type": "code",
   "execution_count": 22,
   "metadata": {
    "collapsed": true
   },
   "outputs": [],
   "source": [
    "schools['Level'] = schools['GRADE_LEVEL'].apply(get_level)"
   ]
  },
  {
   "cell_type": "code",
   "execution_count": 23,
   "metadata": {},
   "outputs": [
    {
     "data": {
      "text/plain": [
       "352"
      ]
     },
     "execution_count": 23,
     "metadata": {},
     "output_type": "execute_result"
    }
   ],
   "source": [
    "# calculate the total number of each school type\n",
    "\n",
    "elementary = schools[schools.Level.str.contains('Elem')|schools.Level.str.contains('All')]\n",
    "len(elementary)"
   ]
  },
  {
   "cell_type": "code",
   "execution_count": 24,
   "metadata": {},
   "outputs": [
    {
     "data": {
      "text/plain": [
       "306"
      ]
     },
     "execution_count": 24,
     "metadata": {},
     "output_type": "execute_result"
    }
   ],
   "source": [
    "middle = schools[schools.Level.str.contains('Middle')|schools.Level.str.contains('All')]\n",
    "len(middle)"
   ]
  },
  {
   "cell_type": "code",
   "execution_count": 25,
   "metadata": {},
   "outputs": [
    {
     "data": {
      "text/plain": [
       "144"
      ]
     },
     "execution_count": 25,
     "metadata": {},
     "output_type": "execute_result"
    }
   ],
   "source": [
    "high = schools[schools.Level.str.contains('High')|schools.Level.str.contains('All')]\n",
    "len(high)"
   ]
  },
  {
   "cell_type": "code",
   "execution_count": 26,
   "metadata": {},
   "outputs": [
    {
     "data": {
      "text/plain": [
       "68"
      ]
     },
     "execution_count": 26,
     "metadata": {},
     "output_type": "execute_result"
    }
   ],
   "source": [
    "other = schools[schools.Level.str.contains('Other')]\n",
    "len(other)"
   ]
  },
  {
   "cell_type": "code",
   "execution_count": 27,
   "metadata": {},
   "outputs": [
    {
     "data": {
      "text/html": [
       "<div>\n",
       "<style>\n",
       "    .dataframe thead tr:only-child th {\n",
       "        text-align: right;\n",
       "    }\n",
       "\n",
       "    .dataframe thead th {\n",
       "        text-align: left;\n",
       "    }\n",
       "\n",
       "    .dataframe tbody tr th {\n",
       "        vertical-align: top;\n",
       "    }\n",
       "</style>\n",
       "<table border=\"1\" class=\"dataframe\">\n",
       "  <thead>\n",
       "    <tr style=\"text-align: right;\">\n",
       "      <th></th>\n",
       "      <th>Number</th>\n",
       "    </tr>\n",
       "  </thead>\n",
       "  <tbody>\n",
       "    <tr>\n",
       "      <th>Elementary</th>\n",
       "      <td>352</td>\n",
       "    </tr>\n",
       "    <tr>\n",
       "      <th>Middle</th>\n",
       "      <td>306</td>\n",
       "    </tr>\n",
       "    <tr>\n",
       "      <th>High</th>\n",
       "      <td>144</td>\n",
       "    </tr>\n",
       "    <tr>\n",
       "      <th>Other</th>\n",
       "      <td>68</td>\n",
       "    </tr>\n",
       "  </tbody>\n",
       "</table>\n",
       "</div>"
      ],
      "text/plain": [
       "            Number\n",
       "Elementary     352\n",
       "Middle         306\n",
       "High           144\n",
       "Other           68"
      ]
     },
     "execution_count": 27,
     "metadata": {},
     "output_type": "execute_result"
    }
   ],
   "source": [
    "# make a new dataframe out of this information\n",
    "new_schools_df = pd.DataFrame(data = [352,306,144,68], index=['Elementary', 'Middle', 'High', 'Other'],columns=['Number'])\n",
    "new_schools_df"
   ]
  },
  {
   "cell_type": "code",
   "execution_count": 36,
   "metadata": {},
   "outputs": [
    {
     "data": {
      "text/plain": [
       "([<matplotlib.patches.Wedge at 0x1118686a0>,\n",
       "  <matplotlib.patches.Wedge at 0x1119534e0>,\n",
       "  <matplotlib.patches.Wedge at 0x11195c160>,\n",
       "  <matplotlib.patches.Wedge at 0x11195cda0>],\n",
       " [<matplotlib.text.Text at 0x11194bfd0>,\n",
       "  <matplotlib.text.Text at 0x111953c50>,\n",
       "  <matplotlib.text.Text at 0x11195c8d0>,\n",
       "  <matplotlib.text.Text at 0x111964550>])"
      ]
     },
     "execution_count": 36,
     "metadata": {},
     "output_type": "execute_result"
    },
    {
     "data": {
      "image/png": "[encoded data removed]",
      "text/plain": [
       "<matplotlib.figure.Figure at 0x11188f7b8>"
      ]
     },
     "metadata": {},
     "output_type": "display_data"
    }
   ],
   "source": [
    "# make a pie chart\n",
    "\n",
    "# size the figure\n",
    "plt.figure(figsize=(8,9))\n",
    "\n",
    "# give it a title\n",
    "plt.title('% Philadelphia School Types', size = 'x-large')\n",
    "\n",
    "# plot the data\n",
    "plt.pie(new_schools_df['Number'], labels=['Elementary', 'Middle', 'High','Other'])"
   ]
  },
  {
   "cell_type": "markdown",
   "metadata": {},
   "source": [
    "## Example 4: Find average Philadelphia school enrollment by zipcode"
   ]
  },
  {
   "cell_type": "code",
   "execution_count": 37,
   "metadata": {},
   "outputs": [
    {
     "data": {
      "text/html": [
       "<div>\n",
       "<style>\n",
       "    .dataframe thead tr:only-child th {\n",
       "        text-align: right;\n",
       "    }\n",
       "\n",
       "    .dataframe thead th {\n",
       "        text-align: left;\n",
       "    }\n",
       "\n",
       "    .dataframe tbody tr th {\n",
       "        vertical-align: top;\n",
       "    }\n",
       "</style>\n",
       "<table border=\"1\" class=\"dataframe\">\n",
       "  <thead>\n",
       "    <tr style=\"text-align: right;\">\n",
       "      <th></th>\n",
       "      <th>X</th>\n",
       "      <th>Y</th>\n",
       "      <th>OBJECTID</th>\n",
       "      <th>AUN</th>\n",
       "      <th>SCHOOL_NUM</th>\n",
       "      <th>LOCATION_ID</th>\n",
       "      <th>FACIL_NAME</th>\n",
       "      <th>FACILNAME_LABEL</th>\n",
       "      <th>FACIL_ADDRESS</th>\n",
       "      <th>ZIPCODE</th>\n",
       "      <th>FACIL_TELEPHONE</th>\n",
       "      <th>ACTIVE</th>\n",
       "      <th>GRADE_LEVEL</th>\n",
       "      <th>GRADE_ORG</th>\n",
       "      <th>ENROLLMENT</th>\n",
       "      <th>TYPE</th>\n",
       "      <th>TYPE_SPECIFIC</th>\n",
       "      <th>Level</th>\n",
       "      <th>zip</th>\n",
       "    </tr>\n",
       "  </thead>\n",
       "  <tbody>\n",
       "    <tr>\n",
       "      <th>0</th>\n",
       "      <td>-75.194310</td>\n",
       "      <td>39.966598</td>\n",
       "      <td>1</td>\n",
       "      <td>126515001.0</td>\n",
       "      <td>3611.0</td>\n",
       "      <td>1360.0</td>\n",
       "      <td>Morton McMichael School</td>\n",
       "      <td>McMichael, Morton</td>\n",
       "      <td>3543 Fairmount Ave</td>\n",
       "      <td>19104 - 1906</td>\n",
       "      <td>(215) 400-7750</td>\n",
       "      <td>Open</td>\n",
       "      <td>Elem/Middle</td>\n",
       "      <td>K-8</td>\n",
       "      <td>405.0</td>\n",
       "      <td>District</td>\n",
       "      <td>District</td>\n",
       "      <td>Elem/Middle</td>\n",
       "      <td>19104</td>\n",
       "    </tr>\n",
       "    <tr>\n",
       "      <th>1</th>\n",
       "      <td>-75.216405</td>\n",
       "      <td>39.954368</td>\n",
       "      <td>2</td>\n",
       "      <td>126515001.0</td>\n",
       "      <td>6530.0</td>\n",
       "      <td>1340.0</td>\n",
       "      <td>Henry C Lea School</td>\n",
       "      <td>Lea, Henry C.</td>\n",
       "      <td>4700 Locust St.</td>\n",
       "      <td>19139 - 4416</td>\n",
       "      <td>(215) 400-7660</td>\n",
       "      <td>Open</td>\n",
       "      <td>Elem/Middle</td>\n",
       "      <td>K-8</td>\n",
       "      <td>527.0</td>\n",
       "      <td>District</td>\n",
       "      <td>District</td>\n",
       "      <td>Elem/Middle</td>\n",
       "      <td>19139</td>\n",
       "    </tr>\n",
       "    <tr>\n",
       "      <th>2</th>\n",
       "      <td>-75.156100</td>\n",
       "      <td>39.929828</td>\n",
       "      <td>3</td>\n",
       "      <td>126515001.0</td>\n",
       "      <td>3647.0</td>\n",
       "      <td>2580.0</td>\n",
       "      <td>Eliza B Kirkbride School</td>\n",
       "      <td>Kirkbride, Elizabeth B.</td>\n",
       "      <td>1501 S 7th St</td>\n",
       "      <td>19147 - 6410</td>\n",
       "      <td>(215) 952-6214</td>\n",
       "      <td>Open</td>\n",
       "      <td>Elem/Middle</td>\n",
       "      <td>K-8</td>\n",
       "      <td>556.0</td>\n",
       "      <td>District</td>\n",
       "      <td>District</td>\n",
       "      <td>Elem/Middle</td>\n",
       "      <td>19147</td>\n",
       "    </tr>\n",
       "    <tr>\n",
       "      <th>3</th>\n",
       "      <td>-75.181226</td>\n",
       "      <td>39.929387</td>\n",
       "      <td>4</td>\n",
       "      <td>126515001.0</td>\n",
       "      <td>3629.0</td>\n",
       "      <td>2370.0</td>\n",
       "      <td>Delaplaine McDaniel School</td>\n",
       "      <td>McDaniel, Delaplaine</td>\n",
       "      <td>1801 S 22nd St</td>\n",
       "      <td>19145 - 1933</td>\n",
       "      <td>(215) 952-6380</td>\n",
       "      <td>Open</td>\n",
       "      <td>Elem/Middle</td>\n",
       "      <td>K-8</td>\n",
       "      <td>603.0</td>\n",
       "      <td>District</td>\n",
       "      <td>District</td>\n",
       "      <td>Elem/Middle</td>\n",
       "      <td>19145</td>\n",
       "    </tr>\n",
       "    <tr>\n",
       "      <th>4</th>\n",
       "      <td>-75.160571</td>\n",
       "      <td>39.920896</td>\n",
       "      <td>5</td>\n",
       "      <td>126515001.0</td>\n",
       "      <td>7228.0</td>\n",
       "      <td>2540.0</td>\n",
       "      <td>Francis Scott Key School</td>\n",
       "      <td>Key, Francis Scott</td>\n",
       "      <td>2230 S 8th St</td>\n",
       "      <td>19148 - 3101</td>\n",
       "      <td>(215) 952-6216</td>\n",
       "      <td>Open</td>\n",
       "      <td>Elementary School</td>\n",
       "      <td>K-6</td>\n",
       "      <td>467.0</td>\n",
       "      <td>District</td>\n",
       "      <td>District</td>\n",
       "      <td>Elementary</td>\n",
       "      <td>19148</td>\n",
       "    </tr>\n",
       "  </tbody>\n",
       "</table>\n",
       "</div>"
      ],
      "text/plain": [
       "           X          Y  OBJECTID          AUN  SCHOOL_NUM  LOCATION_ID  \\\n",
       "0 -75.194310  39.966598         1  126515001.0      3611.0       1360.0   \n",
       "1 -75.216405  39.954368         2  126515001.0      6530.0       1340.0   \n",
       "2 -75.156100  39.929828         3  126515001.0      3647.0       2580.0   \n",
       "3 -75.181226  39.929387         4  126515001.0      3629.0       2370.0   \n",
       "4 -75.160571  39.920896         5  126515001.0      7228.0       2540.0   \n",
       "\n",
       "                   FACIL_NAME          FACILNAME_LABEL       FACIL_ADDRESS  \\\n",
       "0     Morton McMichael School        McMichael, Morton  3543 Fairmount Ave   \n",
       "1          Henry C Lea School            Lea, Henry C.     4700 Locust St.   \n",
       "2    Eliza B Kirkbride School  Kirkbride, Elizabeth B.       1501 S 7th St   \n",
       "3  Delaplaine McDaniel School     McDaniel, Delaplaine      1801 S 22nd St   \n",
       "4    Francis Scott Key School       Key, Francis Scott       2230 S 8th St   \n",
       "\n",
       "        ZIPCODE FACIL_TELEPHONE ACTIVE        GRADE_LEVEL GRADE_ORG  \\\n",
       "0  19104 - 1906  (215) 400-7750   Open        Elem/Middle       K-8   \n",
       "1  19139 - 4416  (215) 400-7660   Open        Elem/Middle       K-8   \n",
       "2  19147 - 6410  (215) 952-6214   Open        Elem/Middle       K-8   \n",
       "3  19145 - 1933  (215) 952-6380   Open        Elem/Middle       K-8   \n",
       "4  19148 - 3101  (215) 952-6216   Open  Elementary School       K-6   \n",
       "\n",
       "   ENROLLMENT      TYPE TYPE_SPECIFIC        Level    zip  \n",
       "0       405.0  District      District  Elem/Middle  19104  \n",
       "1       527.0  District      District  Elem/Middle  19139  \n",
       "2       556.0  District      District  Elem/Middle  19147  \n",
       "3       603.0  District      District  Elem/Middle  19145  \n",
       "4       467.0  District      District   Elementary  19148  "
      ]
     },
     "execution_count": 37,
     "metadata": {},
     "output_type": "execute_result"
    }
   ],
   "source": [
    "schools.head()"
   ]
  },
  {
   "cell_type": "code",
   "execution_count": 40,
   "metadata": {
    "collapsed": true
   },
   "outputs": [],
   "source": [
    "# drop NaN values in the Enrollment column\n",
    "schools = schools.dropna(subset = ['ENROLLMENT'])"
   ]
  },
  {
   "cell_type": "code",
   "execution_count": 41,
   "metadata": {
    "collapsed": true
   },
   "outputs": [],
   "source": [
    "# clean up the zipcodes to remove the last 4 digits- this will make our chart easier to scan for useful information\n",
    "def get_zip(zipcode):\n",
    "    return zipcode[0:5]"
   ]
  },
  {
   "cell_type": "code",
   "execution_count": 44,
   "metadata": {
    "collapsed": true
   },
   "outputs": [],
   "source": [
    "# create a new column called 'zip' in our dataframe of the cleaned zipcodes\n",
    "schools['zip'] = schools['ZIPCODE'].apply(get_zip)"
   ]
  },
  {
   "cell_type": "code",
   "execution_count": 45,
   "metadata": {},
   "outputs": [
    {
     "data": {
      "text/html": [
       "<div>\n",
       "<style>\n",
       "    .dataframe thead tr:only-child th {\n",
       "        text-align: right;\n",
       "    }\n",
       "\n",
       "    .dataframe thead th {\n",
       "        text-align: left;\n",
       "    }\n",
       "\n",
       "    .dataframe tbody tr th {\n",
       "        vertical-align: top;\n",
       "    }\n",
       "</style>\n",
       "<table border=\"1\" class=\"dataframe\">\n",
       "  <thead>\n",
       "    <tr style=\"text-align: right;\">\n",
       "      <th></th>\n",
       "      <th>ENROLLMENT</th>\n",
       "    </tr>\n",
       "    <tr>\n",
       "      <th>zip</th>\n",
       "      <th></th>\n",
       "    </tr>\n",
       "  </thead>\n",
       "  <tbody>\n",
       "    <tr>\n",
       "      <th>19102</th>\n",
       "      <td>575.000000</td>\n",
       "    </tr>\n",
       "    <tr>\n",
       "      <th>19103</th>\n",
       "      <td>397.400000</td>\n",
       "    </tr>\n",
       "    <tr>\n",
       "      <th>19104</th>\n",
       "      <td>240.166667</td>\n",
       "    </tr>\n",
       "    <tr>\n",
       "      <th>19106</th>\n",
       "      <td>486.800000</td>\n",
       "    </tr>\n",
       "    <tr>\n",
       "      <th>19107</th>\n",
       "      <td>424.500000</td>\n",
       "    </tr>\n",
       "  </tbody>\n",
       "</table>\n",
       "</div>"
      ],
      "text/plain": [
       "       ENROLLMENT\n",
       "zip              \n",
       "19102  575.000000\n",
       "19103  397.400000\n",
       "19104  240.166667\n",
       "19106  486.800000\n",
       "19107  424.500000"
      ]
     },
     "execution_count": 45,
     "metadata": {},
     "output_type": "execute_result"
    }
   ],
   "source": [
    "# Create a pivot table of enrollment data by zipcode. This takes the mean of each zipcode by default.\n",
    "schools_pivot = schools.pivot_table('ENROLLMENT',index = 'zip')\n",
    "schools_pivot.head()"
   ]
  },
  {
   "cell_type": "code",
   "execution_count": 46,
   "metadata": {},
   "outputs": [
    {
     "data": {
      "text/plain": [
       "<matplotlib.axes._subplots.AxesSubplot at 0x11197d588>"
      ]
     },
     "execution_count": 46,
     "metadata": {},
     "output_type": "execute_result"
    },
    {
     "data": {
      "image/png": "[encoded data removed]",
      "text/plain": [
       "<matplotlib.figure.Figure at 0x111974f60>"
      ]
     },
     "metadata": {},
     "output_type": "display_data"
    }
   ],
   "source": [
    "# make a bar graph from this pivot table data\n",
    "schools_pivot.plot(kind='bar', figsize=(20,10), title=\"Philadelphia Avg. School Enrollment by Zipcode\")"
   ]
  },
  {
   "cell_type": "markdown",
   "metadata": {},
   "source": [
    "## Example 5: Make a double histogram of best actor/actress winners' ages (Oscars)"
   ]
  },
  {
   "cell_type": "markdown",
   "metadata": {},
   "source": [
    "We can use this double histogram to identify trends in ages for male and female winners- do men or women typically win Oscars earlier or later in life?"
   ]
  },
  {
   "cell_type": "markdown",
   "metadata": {},
   "source": [
    "Dataset obtained from: https://www.statcrunch.com/app/index.php?dataid=1914106"
   ]
  },
  {
   "cell_type": "code",
   "execution_count": 47,
   "metadata": {},
   "outputs": [
    {
     "data": {
      "text/html": [
       "<div>\n",
       "<style>\n",
       "    .dataframe thead tr:only-child th {\n",
       "        text-align: right;\n",
       "    }\n",
       "\n",
       "    .dataframe thead th {\n",
       "        text-align: left;\n",
       "    }\n",
       "\n",
       "    .dataframe tbody tr th {\n",
       "        vertical-align: top;\n",
       "    }\n",
       "</style>\n",
       "<table border=\"1\" class=\"dataframe\">\n",
       "  <thead>\n",
       "    <tr style=\"text-align: right;\">\n",
       "      <th></th>\n",
       "      <th>Year</th>\n",
       "      <th>Male Age</th>\n",
       "      <th>Actor</th>\n",
       "      <th>Male Movie</th>\n",
       "      <th>Female Age</th>\n",
       "      <th>Actress</th>\n",
       "      <th>Female Movie</th>\n",
       "      <th>Unnamed: 7</th>\n",
       "    </tr>\n",
       "  </thead>\n",
       "  <tbody>\n",
       "    <tr>\n",
       "      <th>0</th>\n",
       "      <td>1928</td>\n",
       "      <td>44</td>\n",
       "      <td>Emil Jannings</td>\n",
       "      <td>The Last Command</td>\n",
       "      <td>22</td>\n",
       "      <td>Laura Gainor (aka Janet Gaynor)</td>\n",
       "      <td>Sunrise</td>\n",
       "      <td>NaN</td>\n",
       "    </tr>\n",
       "    <tr>\n",
       "      <th>1</th>\n",
       "      <td>1929</td>\n",
       "      <td>38</td>\n",
       "      <td>Warner Baxter</td>\n",
       "      <td>In Old Arizona</td>\n",
       "      <td>37</td>\n",
       "      <td>Mary Pickford</td>\n",
       "      <td>Coquette</td>\n",
       "      <td>NaN</td>\n",
       "    </tr>\n",
       "    <tr>\n",
       "      <th>2</th>\n",
       "      <td>1930</td>\n",
       "      <td>62</td>\n",
       "      <td>George Arliss</td>\n",
       "      <td>Disraeli</td>\n",
       "      <td>30</td>\n",
       "      <td>Norma Shearer</td>\n",
       "      <td>The Divorcee</td>\n",
       "      <td>NaN</td>\n",
       "    </tr>\n",
       "    <tr>\n",
       "      <th>3</th>\n",
       "      <td>1931</td>\n",
       "      <td>53</td>\n",
       "      <td>Lionel Barrymore</td>\n",
       "      <td>A Free Soul</td>\n",
       "      <td>62</td>\n",
       "      <td>Marie Dressler</td>\n",
       "      <td>Min and Bill</td>\n",
       "      <td>NaN</td>\n",
       "    </tr>\n",
       "    <tr>\n",
       "      <th>4</th>\n",
       "      <td>1932</td>\n",
       "      <td>41</td>\n",
       "      <td>W. Beery(47)/F. March(35)*</td>\n",
       "      <td>The Champ/Dr. Jekyll and Mr. Hyde</td>\n",
       "      <td>32</td>\n",
       "      <td>Helen Hayes</td>\n",
       "      <td>Sin of Madelon</td>\n",
       "      <td>NaN</td>\n",
       "    </tr>\n",
       "  </tbody>\n",
       "</table>\n",
       "</div>"
      ],
      "text/plain": [
       "   Year  Male Age                       Actor  \\\n",
       "0  1928        44               Emil Jannings   \n",
       "1  1929        38               Warner Baxter   \n",
       "2  1930        62               George Arliss   \n",
       "3  1931        53            Lionel Barrymore   \n",
       "4  1932        41  W. Beery(47)/F. March(35)*   \n",
       "\n",
       "                          Male Movie  Female Age  \\\n",
       "0                   The Last Command          22   \n",
       "1                     In Old Arizona          37   \n",
       "2                           Disraeli          30   \n",
       "3                        A Free Soul          62   \n",
       "4  The Champ/Dr. Jekyll and Mr. Hyde          32   \n",
       "\n",
       "                           Actress    Female Movie Unnamed: 7  \n",
       "0  Laura Gainor (aka Janet Gaynor)         Sunrise        NaN  \n",
       "1                    Mary Pickford        Coquette        NaN  \n",
       "2                    Norma Shearer    The Divorcee        NaN  \n",
       "3                   Marie Dressler    Min and Bill        NaN  \n",
       "4                      Helen Hayes  Sin of Madelon        NaN  "
      ]
     },
     "execution_count": 47,
     "metadata": {},
     "output_type": "execute_result"
    }
   ],
   "source": [
    "acting = pd.read_csv('/Users/naomi/Downloads/acting.csv')\n",
    "acting.head()"
   ]
  },
  {
   "cell_type": "code",
   "execution_count": 48,
   "metadata": {},
   "outputs": [
    {
     "data": {
      "text/plain": [
       "<matplotlib.text.Text at 0x11242cfd0>"
      ]
     },
     "execution_count": 48,
     "metadata": {},
     "output_type": "execute_result"
    },
    {
     "data": {
      "image/png": "[encoded data removed]",
      "text/plain": [
       "<matplotlib.figure.Figure at 0x1122eb8d0>"
      ]
     },
     "metadata": {},
     "output_type": "display_data"
    }
   ],
   "source": [
    "x = acting['Male Age']\n",
    "y = acting['Female Age']\n",
    "\n",
    "bins = np.arange(15,80)\n",
    "\n",
    "plt.figure(figsize = (15,8))\n",
    "plt.hist(x, bins, alpha=0.5, label='Male Ages', normed=True)\n",
    "plt.hist(y, bins, alpha=0.5, label='Female Ages', normed=True)\n",
    "plt.legend(loc='upper right')\n",
    "plt.title('Distribution of Ages of Best Actor/Actress Winners')\n",
    "plt.xlabel('Age')\n",
    "plt.ylabel('Probability')\n",
    "\n",
    "# I used the following stackoverflow article to figure out how to plot two histograms on the same plot: \n",
    "# https://stackoverflow.com/questions/6871201/plot-two-histograms-at-the-same-time-with-matplotlib"
   ]
  },
  {
   "cell_type": "markdown",
   "metadata": {},
   "source": [
    "Based on this graph, we can see that females generally win Best Actor/Actress Awards earlier than men do. The most common age for women to win is ~26, whereas the most common age for men to win is ~38. There are some outliers in the 70-80 age range- a few men and women won these awards later in life."
   ]
  },
  {
   "cell_type": "markdown",
   "metadata": {},
   "source": [
    "## Example 6: Philadelphia vs. San Diego weather"
   ]
  },
  {
   "cell_type": "markdown",
   "metadata": {},
   "source": [
    "This set of visualizations aims to answer the question: Is the weather really better on the West Coast?!\n",
    "\n",
    "I used this data for San Diego (from handy dandy Wunderground):\n",
    "https://www.wunderground.com/history/airport/KSAN/2016/1/1/CustomHistory.html?dayend=1&monthend=1&yearend=2017&req_city=&req_state=&req_statename=&reqdb.zip=&reqdb.magic=&reqdb.wmo=\n",
    "\n",
    "And this data for Philadelphia:\n",
    "https://www.wunderground.com/history/airport/KPHL/2016/1/1/CustomHistory.html?dayend=1&monthend=1&yearend=2017&req_city=&req_state=&req_statename=&reqdb.zip=&reqdb.magic=&reqdb.wmo=\n",
    "\n",
    "I uploaded both datasets into Google Sheets and did some preliminary data cleaning in there. Here are links to my cleaned Google sheets:\n",
    "\n",
    "Cleaned SD data:\n",
    "https://docs.google.com/spreadsheets/d/1jwqgf48k675m9ZBmgVislopcrbXA7_yZKebFe6Kp0Wo/edit?usp=sharing\n",
    "\n",
    "Cleaned Philadelphia data:\n",
    "https://docs.google.com/spreadsheets/d/1m-VQ0avVkGD4WAbHpEjP4yPs3JKzp3LV9OuPhwolCWg/edit?usp=sharing"
   ]
  },
  {
   "cell_type": "code",
   "execution_count": 49,
   "metadata": {},
   "outputs": [
    {
     "data": {
      "text/html": [
       "<div>\n",
       "<style>\n",
       "    .dataframe thead tr:only-child th {\n",
       "        text-align: right;\n",
       "    }\n",
       "\n",
       "    .dataframe thead th {\n",
       "        text-align: left;\n",
       "    }\n",
       "\n",
       "    .dataframe tbody tr th {\n",
       "        vertical-align: top;\n",
       "    }\n",
       "</style>\n",
       "<table border=\"1\" class=\"dataframe\">\n",
       "  <thead>\n",
       "    <tr style=\"text-align: right;\">\n",
       "      <th></th>\n",
       "      <th>Date</th>\n",
       "      <th>Temp. High (F)</th>\n",
       "      <th>Temp. Avg (F)</th>\n",
       "      <th>Temp. Low (F)</th>\n",
       "      <th>Humid. High (%)</th>\n",
       "      <th>Humid. Avg (%)</th>\n",
       "      <th>Humid. Low (%)</th>\n",
       "      <th>Wind High (mph)</th>\n",
       "      <th>Wind Avg. (mph)</th>\n",
       "      <th>Wind Low (mph)</th>\n",
       "      <th>Precip. (in)</th>\n",
       "      <th>Events</th>\n",
       "    </tr>\n",
       "  </thead>\n",
       "  <tbody>\n",
       "    <tr>\n",
       "      <th>0</th>\n",
       "      <td>1-Jan</td>\n",
       "      <td>43</td>\n",
       "      <td>39</td>\n",
       "      <td>34</td>\n",
       "      <td>59</td>\n",
       "      <td>50</td>\n",
       "      <td>41</td>\n",
       "      <td>24</td>\n",
       "      <td>12</td>\n",
       "      <td>29</td>\n",
       "      <td>0</td>\n",
       "      <td>NaN</td>\n",
       "    </tr>\n",
       "    <tr>\n",
       "      <th>1</th>\n",
       "      <td>2-Jan</td>\n",
       "      <td>44</td>\n",
       "      <td>38</td>\n",
       "      <td>31</td>\n",
       "      <td>69</td>\n",
       "      <td>55</td>\n",
       "      <td>40</td>\n",
       "      <td>17</td>\n",
       "      <td>7</td>\n",
       "      <td>22</td>\n",
       "      <td>0</td>\n",
       "      <td>NaN</td>\n",
       "    </tr>\n",
       "    <tr>\n",
       "      <th>2</th>\n",
       "      <td>3-Jan</td>\n",
       "      <td>50</td>\n",
       "      <td>40</td>\n",
       "      <td>30</td>\n",
       "      <td>85</td>\n",
       "      <td>58</td>\n",
       "      <td>31</td>\n",
       "      <td>22</td>\n",
       "      <td>9</td>\n",
       "      <td>28</td>\n",
       "      <td>0</td>\n",
       "      <td>NaN</td>\n",
       "    </tr>\n",
       "    <tr>\n",
       "      <th>3</th>\n",
       "      <td>4-Jan</td>\n",
       "      <td>37</td>\n",
       "      <td>26</td>\n",
       "      <td>14</td>\n",
       "      <td>64</td>\n",
       "      <td>45</td>\n",
       "      <td>26</td>\n",
       "      <td>26</td>\n",
       "      <td>16</td>\n",
       "      <td>34</td>\n",
       "      <td>0</td>\n",
       "      <td>NaN</td>\n",
       "    </tr>\n",
       "    <tr>\n",
       "      <th>4</th>\n",
       "      <td>5-Jan</td>\n",
       "      <td>32</td>\n",
       "      <td>22</td>\n",
       "      <td>12</td>\n",
       "      <td>51</td>\n",
       "      <td>36</td>\n",
       "      <td>21</td>\n",
       "      <td>21</td>\n",
       "      <td>9</td>\n",
       "      <td>26</td>\n",
       "      <td>0</td>\n",
       "      <td>NaN</td>\n",
       "    </tr>\n",
       "  </tbody>\n",
       "</table>\n",
       "</div>"
      ],
      "text/plain": [
       "    Date  Temp. High (F)  Temp. Avg (F)  Temp. Low (F)  Humid. High (%)  \\\n",
       "0  1-Jan              43             39             34               59   \n",
       "1  2-Jan              44             38             31               69   \n",
       "2  3-Jan              50             40             30               85   \n",
       "3  4-Jan              37             26             14               64   \n",
       "4  5-Jan              32             22             12               51   \n",
       "\n",
       "   Humid. Avg (%)  Humid. Low (%)  Wind High (mph)  Wind Avg. (mph)  \\\n",
       "0              50              41               24               12   \n",
       "1              55              40               17                7   \n",
       "2              58              31               22                9   \n",
       "3              45              26               26               16   \n",
       "4              36              21               21                9   \n",
       "\n",
       "  Wind Low (mph) Precip. (in) Events  \n",
       "0             29            0    NaN  \n",
       "1             22            0    NaN  \n",
       "2             28            0    NaN  \n",
       "3             34            0    NaN  \n",
       "4             26            0    NaN  "
      ]
     },
     "execution_count": 49,
     "metadata": {},
     "output_type": "execute_result"
    }
   ],
   "source": [
    "phl = pd.read_csv('/Users/naomi/Downloads/PHL_data - Sheet1.csv')\n",
    "phl.head()"
   ]
  },
  {
   "cell_type": "code",
   "execution_count": 50,
   "metadata": {},
   "outputs": [
    {
     "data": {
      "text/html": [
       "<div>\n",
       "<style>\n",
       "    .dataframe thead tr:only-child th {\n",
       "        text-align: right;\n",
       "    }\n",
       "\n",
       "    .dataframe thead th {\n",
       "        text-align: left;\n",
       "    }\n",
       "\n",
       "    .dataframe tbody tr th {\n",
       "        vertical-align: top;\n",
       "    }\n",
       "</style>\n",
       "<table border=\"1\" class=\"dataframe\">\n",
       "  <thead>\n",
       "    <tr style=\"text-align: right;\">\n",
       "      <th></th>\n",
       "      <th>Date</th>\n",
       "      <th>Temp. High (F)</th>\n",
       "      <th>Temp. Avg (F)</th>\n",
       "      <th>Temp. Low (F)</th>\n",
       "      <th>Humid. High (%)</th>\n",
       "      <th>Humid. Avg (%)</th>\n",
       "      <th>Humid. Low (%)</th>\n",
       "      <th>Wind High (mph)</th>\n",
       "      <th>Wind Avg. (mph)</th>\n",
       "      <th>Wind Low (mph)</th>\n",
       "      <th>Precip. (in)</th>\n",
       "      <th>Events</th>\n",
       "    </tr>\n",
       "  </thead>\n",
       "  <tbody>\n",
       "    <tr>\n",
       "      <th>0</th>\n",
       "      <td>1-Jan</td>\n",
       "      <td>65</td>\n",
       "      <td>55</td>\n",
       "      <td>44</td>\n",
       "      <td>58</td>\n",
       "      <td>38</td>\n",
       "      <td>17</td>\n",
       "      <td>9</td>\n",
       "      <td>1</td>\n",
       "      <td>10</td>\n",
       "      <td>0</td>\n",
       "      <td>NaN</td>\n",
       "    </tr>\n",
       "    <tr>\n",
       "      <th>1</th>\n",
       "      <td>2-Jan</td>\n",
       "      <td>64</td>\n",
       "      <td>55</td>\n",
       "      <td>45</td>\n",
       "      <td>66</td>\n",
       "      <td>46</td>\n",
       "      <td>25</td>\n",
       "      <td>7</td>\n",
       "      <td>2</td>\n",
       "      <td>10</td>\n",
       "      <td>0</td>\n",
       "      <td>NaN</td>\n",
       "    </tr>\n",
       "    <tr>\n",
       "      <th>2</th>\n",
       "      <td>3-Jan</td>\n",
       "      <td>63</td>\n",
       "      <td>56</td>\n",
       "      <td>48</td>\n",
       "      <td>69</td>\n",
       "      <td>62</td>\n",
       "      <td>54</td>\n",
       "      <td>17</td>\n",
       "      <td>4</td>\n",
       "      <td>22</td>\n",
       "      <td>T</td>\n",
       "      <td>NaN</td>\n",
       "    </tr>\n",
       "    <tr>\n",
       "      <th>3</th>\n",
       "      <td>4-Jan</td>\n",
       "      <td>64</td>\n",
       "      <td>60</td>\n",
       "      <td>56</td>\n",
       "      <td>84</td>\n",
       "      <td>70</td>\n",
       "      <td>55</td>\n",
       "      <td>15</td>\n",
       "      <td>5</td>\n",
       "      <td>18</td>\n",
       "      <td>0.14</td>\n",
       "      <td>Rain</td>\n",
       "    </tr>\n",
       "    <tr>\n",
       "      <th>4</th>\n",
       "      <td>5-Jan</td>\n",
       "      <td>61</td>\n",
       "      <td>60</td>\n",
       "      <td>58</td>\n",
       "      <td>93</td>\n",
       "      <td>80</td>\n",
       "      <td>67</td>\n",
       "      <td>24</td>\n",
       "      <td>11</td>\n",
       "      <td>31</td>\n",
       "      <td>1.65</td>\n",
       "      <td>Rain</td>\n",
       "    </tr>\n",
       "  </tbody>\n",
       "</table>\n",
       "</div>"
      ],
      "text/plain": [
       "    Date  Temp. High (F)  Temp. Avg (F)  Temp. Low (F)  Humid. High (%)  \\\n",
       "0  1-Jan              65             55             44               58   \n",
       "1  2-Jan              64             55             45               66   \n",
       "2  3-Jan              63             56             48               69   \n",
       "3  4-Jan              64             60             56               84   \n",
       "4  5-Jan              61             60             58               93   \n",
       "\n",
       "   Humid. Avg (%)  Humid. Low (%)  Wind High (mph)  Wind Avg. (mph)  \\\n",
       "0              38              17                9                1   \n",
       "1              46              25                7                2   \n",
       "2              62              54               17                4   \n",
       "3              70              55               15                5   \n",
       "4              80              67               24               11   \n",
       "\n",
       "  Wind Low (mph) Precip. (in) Events  \n",
       "0             10            0    NaN  \n",
       "1             10            0    NaN  \n",
       "2             22            T    NaN  \n",
       "3             18         0.14   Rain  \n",
       "4             31         1.65   Rain  "
      ]
     },
     "execution_count": 50,
     "metadata": {},
     "output_type": "execute_result"
    }
   ],
   "source": [
    "sd = pd.read_csv('/Users/naomi/Downloads/SD_data - Sheet1.csv')\n",
    "sd.head()"
   ]
  },
  {
   "cell_type": "code",
   "execution_count": 51,
   "metadata": {
    "collapsed": true
   },
   "outputs": [],
   "source": [
    "# define \"nice days\" as days where the avg temperature is between 70 and 85 degrees \n",
    "# and the avg humidity is less than 75%\n",
    "\n",
    "# define \"okay days\" as days where the avg temperature is between 55 and 70 degrees\n",
    "# and the avg humidity is less than 75%\n",
    "\n",
    "def get_nice(humid, temp):\n",
    "    if np.logical_and((humid<75),(np.logical_and(temp<=85,temp>=70))):\n",
    "        return 'nice'\n",
    "    elif np.logical_and((humid<75),(np.logical_and(temp<70,temp>=55))):\n",
    "        return 'okay'\n",
    "    else:\n",
    "        return 'bad'"
   ]
  },
  {
   "cell_type": "code",
   "execution_count": 57,
   "metadata": {},
   "outputs": [
    {
     "data": {
      "text/html": [
       "<div>\n",
       "<style>\n",
       "    .dataframe thead tr:only-child th {\n",
       "        text-align: right;\n",
       "    }\n",
       "\n",
       "    .dataframe thead th {\n",
       "        text-align: left;\n",
       "    }\n",
       "\n",
       "    .dataframe tbody tr th {\n",
       "        vertical-align: top;\n",
       "    }\n",
       "</style>\n",
       "<table border=\"1\" class=\"dataframe\">\n",
       "  <thead>\n",
       "    <tr style=\"text-align: right;\">\n",
       "      <th></th>\n",
       "      <th>Date</th>\n",
       "      <th>Temp. High (F)</th>\n",
       "      <th>Temp. Avg (F)</th>\n",
       "      <th>Temp. Low (F)</th>\n",
       "      <th>Humid. High (%)</th>\n",
       "      <th>Humid. Avg (%)</th>\n",
       "      <th>Humid. Low (%)</th>\n",
       "      <th>Wind High (mph)</th>\n",
       "      <th>Wind Avg. (mph)</th>\n",
       "      <th>Wind Low (mph)</th>\n",
       "      <th>Precip. (in)</th>\n",
       "      <th>Events</th>\n",
       "      <th>day_type</th>\n",
       "    </tr>\n",
       "  </thead>\n",
       "  <tbody>\n",
       "    <tr>\n",
       "      <th>0</th>\n",
       "      <td>1-Jan</td>\n",
       "      <td>43</td>\n",
       "      <td>39</td>\n",
       "      <td>34</td>\n",
       "      <td>59</td>\n",
       "      <td>50</td>\n",
       "      <td>41</td>\n",
       "      <td>24</td>\n",
       "      <td>12</td>\n",
       "      <td>29</td>\n",
       "      <td>0</td>\n",
       "      <td>NaN</td>\n",
       "      <td>bad</td>\n",
       "    </tr>\n",
       "    <tr>\n",
       "      <th>1</th>\n",
       "      <td>2-Jan</td>\n",
       "      <td>44</td>\n",
       "      <td>38</td>\n",
       "      <td>31</td>\n",
       "      <td>69</td>\n",
       "      <td>55</td>\n",
       "      <td>40</td>\n",
       "      <td>17</td>\n",
       "      <td>7</td>\n",
       "      <td>22</td>\n",
       "      <td>0</td>\n",
       "      <td>NaN</td>\n",
       "      <td>bad</td>\n",
       "    </tr>\n",
       "    <tr>\n",
       "      <th>2</th>\n",
       "      <td>3-Jan</td>\n",
       "      <td>50</td>\n",
       "      <td>40</td>\n",
       "      <td>30</td>\n",
       "      <td>85</td>\n",
       "      <td>58</td>\n",
       "      <td>31</td>\n",
       "      <td>22</td>\n",
       "      <td>9</td>\n",
       "      <td>28</td>\n",
       "      <td>0</td>\n",
       "      <td>NaN</td>\n",
       "      <td>bad</td>\n",
       "    </tr>\n",
       "    <tr>\n",
       "      <th>3</th>\n",
       "      <td>4-Jan</td>\n",
       "      <td>37</td>\n",
       "      <td>26</td>\n",
       "      <td>14</td>\n",
       "      <td>64</td>\n",
       "      <td>45</td>\n",
       "      <td>26</td>\n",
       "      <td>26</td>\n",
       "      <td>16</td>\n",
       "      <td>34</td>\n",
       "      <td>0</td>\n",
       "      <td>NaN</td>\n",
       "      <td>bad</td>\n",
       "    </tr>\n",
       "    <tr>\n",
       "      <th>4</th>\n",
       "      <td>5-Jan</td>\n",
       "      <td>32</td>\n",
       "      <td>22</td>\n",
       "      <td>12</td>\n",
       "      <td>51</td>\n",
       "      <td>36</td>\n",
       "      <td>21</td>\n",
       "      <td>21</td>\n",
       "      <td>9</td>\n",
       "      <td>26</td>\n",
       "      <td>0</td>\n",
       "      <td>NaN</td>\n",
       "      <td>bad</td>\n",
       "    </tr>\n",
       "  </tbody>\n",
       "</table>\n",
       "</div>"
      ],
      "text/plain": [
       "    Date  Temp. High (F)  Temp. Avg (F)  Temp. Low (F)  Humid. High (%)  \\\n",
       "0  1-Jan              43             39             34               59   \n",
       "1  2-Jan              44             38             31               69   \n",
       "2  3-Jan              50             40             30               85   \n",
       "3  4-Jan              37             26             14               64   \n",
       "4  5-Jan              32             22             12               51   \n",
       "\n",
       "   Humid. Avg (%)  Humid. Low (%)  Wind High (mph)  Wind Avg. (mph)  \\\n",
       "0              50              41               24               12   \n",
       "1              55              40               17                7   \n",
       "2              58              31               22                9   \n",
       "3              45              26               26               16   \n",
       "4              36              21               21                9   \n",
       "\n",
       "  Wind Low (mph) Precip. (in) Events day_type  \n",
       "0             29            0    NaN      bad  \n",
       "1             22            0    NaN      bad  \n",
       "2             28            0    NaN      bad  \n",
       "3             34            0    NaN      bad  \n",
       "4             26            0    NaN      bad  "
      ]
     },
     "execution_count": 57,
     "metadata": {},
     "output_type": "execute_result"
    }
   ],
   "source": [
    "# create a column, day_type, of day type\n",
    "\n",
    "phl['day_type'] = np.vectorize(get_nice)(phl['Humid. Avg (%)'], phl['Temp. Avg (F)'])\n",
    "phl.head()"
   ]
  },
  {
   "cell_type": "code",
   "execution_count": 56,
   "metadata": {},
   "outputs": [
    {
     "data": {
      "text/html": [
       "<div>\n",
       "<style>\n",
       "    .dataframe thead tr:only-child th {\n",
       "        text-align: right;\n",
       "    }\n",
       "\n",
       "    .dataframe thead th {\n",
       "        text-align: left;\n",
       "    }\n",
       "\n",
       "    .dataframe tbody tr th {\n",
       "        vertical-align: top;\n",
       "    }\n",
       "</style>\n",
       "<table border=\"1\" class=\"dataframe\">\n",
       "  <thead>\n",
       "    <tr style=\"text-align: right;\">\n",
       "      <th></th>\n",
       "      <th>Date</th>\n",
       "      <th>Temp. High (F)</th>\n",
       "      <th>Temp. Avg (F)</th>\n",
       "      <th>Temp. Low (F)</th>\n",
       "      <th>Humid. High (%)</th>\n",
       "      <th>Humid. Avg (%)</th>\n",
       "      <th>Humid. Low (%)</th>\n",
       "      <th>Wind High (mph)</th>\n",
       "      <th>Wind Avg. (mph)</th>\n",
       "      <th>Wind Low (mph)</th>\n",
       "      <th>Precip. (in)</th>\n",
       "      <th>Events</th>\n",
       "      <th>day_type</th>\n",
       "    </tr>\n",
       "  </thead>\n",
       "  <tbody>\n",
       "    <tr>\n",
       "      <th>0</th>\n",
       "      <td>1-Jan</td>\n",
       "      <td>65</td>\n",
       "      <td>55</td>\n",
       "      <td>44</td>\n",
       "      <td>58</td>\n",
       "      <td>38</td>\n",
       "      <td>17</td>\n",
       "      <td>9</td>\n",
       "      <td>1</td>\n",
       "      <td>10</td>\n",
       "      <td>0</td>\n",
       "      <td>NaN</td>\n",
       "      <td>okay</td>\n",
       "    </tr>\n",
       "    <tr>\n",
       "      <th>1</th>\n",
       "      <td>2-Jan</td>\n",
       "      <td>64</td>\n",
       "      <td>55</td>\n",
       "      <td>45</td>\n",
       "      <td>66</td>\n",
       "      <td>46</td>\n",
       "      <td>25</td>\n",
       "      <td>7</td>\n",
       "      <td>2</td>\n",
       "      <td>10</td>\n",
       "      <td>0</td>\n",
       "      <td>NaN</td>\n",
       "      <td>okay</td>\n",
       "    </tr>\n",
       "    <tr>\n",
       "      <th>2</th>\n",
       "      <td>3-Jan</td>\n",
       "      <td>63</td>\n",
       "      <td>56</td>\n",
       "      <td>48</td>\n",
       "      <td>69</td>\n",
       "      <td>62</td>\n",
       "      <td>54</td>\n",
       "      <td>17</td>\n",
       "      <td>4</td>\n",
       "      <td>22</td>\n",
       "      <td>T</td>\n",
       "      <td>NaN</td>\n",
       "      <td>okay</td>\n",
       "    </tr>\n",
       "    <tr>\n",
       "      <th>3</th>\n",
       "      <td>4-Jan</td>\n",
       "      <td>64</td>\n",
       "      <td>60</td>\n",
       "      <td>56</td>\n",
       "      <td>84</td>\n",
       "      <td>70</td>\n",
       "      <td>55</td>\n",
       "      <td>15</td>\n",
       "      <td>5</td>\n",
       "      <td>18</td>\n",
       "      <td>0.14</td>\n",
       "      <td>Rain</td>\n",
       "      <td>okay</td>\n",
       "    </tr>\n",
       "    <tr>\n",
       "      <th>4</th>\n",
       "      <td>5-Jan</td>\n",
       "      <td>61</td>\n",
       "      <td>60</td>\n",
       "      <td>58</td>\n",
       "      <td>93</td>\n",
       "      <td>80</td>\n",
       "      <td>67</td>\n",
       "      <td>24</td>\n",
       "      <td>11</td>\n",
       "      <td>31</td>\n",
       "      <td>1.65</td>\n",
       "      <td>Rain</td>\n",
       "      <td>bad</td>\n",
       "    </tr>\n",
       "  </tbody>\n",
       "</table>\n",
       "</div>"
      ],
      "text/plain": [
       "    Date  Temp. High (F)  Temp. Avg (F)  Temp. Low (F)  Humid. High (%)  \\\n",
       "0  1-Jan              65             55             44               58   \n",
       "1  2-Jan              64             55             45               66   \n",
       "2  3-Jan              63             56             48               69   \n",
       "3  4-Jan              64             60             56               84   \n",
       "4  5-Jan              61             60             58               93   \n",
       "\n",
       "   Humid. Avg (%)  Humid. Low (%)  Wind High (mph)  Wind Avg. (mph)  \\\n",
       "0              38              17                9                1   \n",
       "1              46              25                7                2   \n",
       "2              62              54               17                4   \n",
       "3              70              55               15                5   \n",
       "4              80              67               24               11   \n",
       "\n",
       "  Wind Low (mph) Precip. (in) Events day_type  \n",
       "0             10            0    NaN     okay  \n",
       "1             10            0    NaN     okay  \n",
       "2             22            T    NaN     okay  \n",
       "3             18         0.14   Rain     okay  \n",
       "4             31         1.65   Rain      bad  "
      ]
     },
     "execution_count": 56,
     "metadata": {},
     "output_type": "execute_result"
    }
   ],
   "source": [
    "# create a column, day_type, of day type\n",
    "\n",
    "sd['day_type'] = np.vectorize(get_nice)(sd['Humid. Avg (%)'], sd['Temp. Avg (F)'])\n",
    "sd.head()"
   ]
  },
  {
   "cell_type": "code",
   "execution_count": 58,
   "metadata": {
    "collapsed": true
   },
   "outputs": [],
   "source": [
    "# count the number of good, okay, and bad days in PHL\n",
    "\n",
    "phl_count = phl.pivot_table('Wind High (mph)', index = 'day_type', aggfunc = 'count')"
   ]
  },
  {
   "cell_type": "code",
   "execution_count": 59,
   "metadata": {},
   "outputs": [
    {
     "data": {
      "text/html": [
       "<div>\n",
       "<style>\n",
       "    .dataframe thead tr:only-child th {\n",
       "        text-align: right;\n",
       "    }\n",
       "\n",
       "    .dataframe thead th {\n",
       "        text-align: left;\n",
       "    }\n",
       "\n",
       "    .dataframe tbody tr th {\n",
       "        vertical-align: top;\n",
       "    }\n",
       "</style>\n",
       "<table border=\"1\" class=\"dataframe\">\n",
       "  <thead>\n",
       "    <tr style=\"text-align: right;\">\n",
       "      <th></th>\n",
       "      <th>Count</th>\n",
       "    </tr>\n",
       "    <tr>\n",
       "      <th>day_type</th>\n",
       "      <th></th>\n",
       "    </tr>\n",
       "  </thead>\n",
       "  <tbody>\n",
       "    <tr>\n",
       "      <th>bad</th>\n",
       "      <td>199</td>\n",
       "    </tr>\n",
       "    <tr>\n",
       "      <th>nice</th>\n",
       "      <td>103</td>\n",
       "    </tr>\n",
       "    <tr>\n",
       "      <th>okay</th>\n",
       "      <td>64</td>\n",
       "    </tr>\n",
       "  </tbody>\n",
       "</table>\n",
       "</div>"
      ],
      "text/plain": [
       "          Count\n",
       "day_type       \n",
       "bad         199\n",
       "nice        103\n",
       "okay         64"
      ]
     },
     "execution_count": 59,
     "metadata": {},
     "output_type": "execute_result"
    }
   ],
   "source": [
    "# rename column\n",
    "\n",
    "phl_count = phl_count.rename(columns = {'Wind High (mph)':'Count'})\n",
    "phl_count"
   ]
  },
  {
   "cell_type": "code",
   "execution_count": 60,
   "metadata": {
    "collapsed": true
   },
   "outputs": [],
   "source": [
    "# count the number of good, okay, and bad days in SD\n",
    "\n",
    "sd_count = sd.pivot_table('Wind High (mph)', index = 'day_type', aggfunc = 'count')"
   ]
  },
  {
   "cell_type": "code",
   "execution_count": 61,
   "metadata": {
    "collapsed": true
   },
   "outputs": [],
   "source": [
    "# rename column\n",
    "\n",
    "sd_count = sd_count.rename(columns = {'Wind High (mph)':'Count'})"
   ]
  },
  {
   "cell_type": "code",
   "execution_count": 62,
   "metadata": {},
   "outputs": [
    {
     "data": {
      "text/plain": [
       "<matplotlib.axes._subplots.AxesSubplot at 0x112ad50f0>"
      ]
     },
     "execution_count": 62,
     "metadata": {},
     "output_type": "execute_result"
    },
    {
     "data": {
      "image/png": "[encoded data removed]",
      "text/plain": [
       "<matplotlib.figure.Figure at 0x112ad34e0>"
      ]
     },
     "metadata": {},
     "output_type": "display_data"
    }
   ],
   "source": [
    "# make a pie chart for Philly data\n",
    "\n",
    "phl_count.plot.pie('Count', legend='day_type', title='% Day Types in Philadelphia (2016)',figsize=(8,9))"
   ]
  },
  {
   "cell_type": "code",
   "execution_count": 63,
   "metadata": {},
   "outputs": [
    {
     "data": {
      "text/plain": [
       "<matplotlib.axes._subplots.AxesSubplot at 0x112abfa90>"
      ]
     },
     "execution_count": 63,
     "metadata": {},
     "output_type": "execute_result"
    },
    {
     "data": {
      "image/png": "[encoded data removed]",
      "text/plain": [
       "<matplotlib.figure.Figure at 0x1128e53c8>"
      ]
     },
     "metadata": {},
     "output_type": "display_data"
    }
   ],
   "source": [
    "# make a pie chart for San Diego data\n",
    "\n",
    "sd_count.plot.pie('Count', legend='day_type', title='% Day Types in San Diego (2016)',figsize=(8,9))"
   ]
  },
  {
   "cell_type": "markdown",
   "metadata": {},
   "source": [
    "Based on these pie charts, the viewer can see that San Diego has many more 'nice' and 'okay' days than Philadelphia does. Specifically, San Diego has more days that are between 55-85 degrees F with humidity lower than 75% than Philadelphia does. This makes San Diego a nicer city to live in, based on weather. I still love Philly, though."
   ]
  },
  {
   "cell_type": "markdown",
   "metadata": {},
   "source": [
    "## Example 7: More weather!"
   ]
  },
  {
   "cell_type": "code",
   "execution_count": 64,
   "metadata": {},
   "outputs": [
    {
     "data": {
      "text/plain": [
       "array([nan, 'Rain', 'Snow', 'Fog , Snow', 'Rain , Snow', 'Fog , Rain',\n",
       "       'Fog , Rain , Snow', 'Rain , Thunderstorm',\n",
       "       'Fog , Rain , Thunderstorm', 'Thunderstorm', 'Fog'], dtype=object)"
      ]
     },
     "execution_count": 64,
     "metadata": {},
     "output_type": "execute_result"
    }
   ],
   "source": [
    "# Now look at the percentage of days with precipitation in each city (I'm counting fog as precipitation).\n",
    "\n",
    "phl.Events.unique()"
   ]
  },
  {
   "cell_type": "code",
   "execution_count": 65,
   "metadata": {},
   "outputs": [
    {
     "data": {
      "text/plain": [
       "array([nan, 'Rain', 'Rain , Thunderstorm', 'Fog', 'Fog , Rain'], dtype=object)"
      ]
     },
     "execution_count": 65,
     "metadata": {},
     "output_type": "execute_result"
    }
   ],
   "source": [
    "sd.Events.unique()"
   ]
  },
  {
   "cell_type": "code",
   "execution_count": 68,
   "metadata": {
    "collapsed": true
   },
   "outputs": [],
   "source": [
    "# replace NaN values with strings and save this to a new dataframe\n",
    "\n",
    "phl2 = phl.fillna(value='None')"
   ]
  },
  {
   "cell_type": "code",
   "execution_count": 69,
   "metadata": {
    "collapsed": true
   },
   "outputs": [],
   "source": [
    "sd2 = sd.fillna(value='None')"
   ]
  },
  {
   "cell_type": "code",
   "execution_count": 70,
   "metadata": {},
   "outputs": [
    {
     "data": {
      "text/plain": [
       "136"
      ]
     },
     "execution_count": 70,
     "metadata": {},
     "output_type": "execute_result"
    }
   ],
   "source": [
    "# calculate the total number of each Event type in Philly\n",
    "\n",
    "phl_rain = phl2[phl2.Events.str.contains('Rain')]\n",
    "len(phl_rain)"
   ]
  },
  {
   "cell_type": "code",
   "execution_count": 71,
   "metadata": {},
   "outputs": [
    {
     "data": {
      "text/plain": [
       "23"
      ]
     },
     "execution_count": 71,
     "metadata": {},
     "output_type": "execute_result"
    }
   ],
   "source": [
    "phl_snow = phl2[phl2.Events.str.contains('Snow')]\n",
    "len(phl_snow)"
   ]
  },
  {
   "cell_type": "code",
   "execution_count": 72,
   "metadata": {},
   "outputs": [
    {
     "data": {
      "text/plain": [
       "26"
      ]
     },
     "execution_count": 72,
     "metadata": {},
     "output_type": "execute_result"
    }
   ],
   "source": [
    "phl_tstorm = phl2[phl2.Events.str.contains('Thunderstorm')]\n",
    "len(phl_tstorm)"
   ]
  },
  {
   "cell_type": "code",
   "execution_count": 73,
   "metadata": {},
   "outputs": [
    {
     "data": {
      "text/plain": [
       "14"
      ]
     },
     "execution_count": 73,
     "metadata": {},
     "output_type": "execute_result"
    }
   ],
   "source": [
    "phl_fog = phl2[phl2.Events.str.contains('Fog')]\n",
    "len(phl_fog)"
   ]
  },
  {
   "cell_type": "code",
   "execution_count": 74,
   "metadata": {},
   "outputs": [
    {
     "data": {
      "text/plain": [
       "213"
      ]
     },
     "execution_count": 74,
     "metadata": {},
     "output_type": "execute_result"
    }
   ],
   "source": [
    "phl_none = phl2[phl2.Events.str.contains('None')]\n",
    "len(phl_none)"
   ]
  },
  {
   "cell_type": "code",
   "execution_count": 75,
   "metadata": {},
   "outputs": [
    {
     "data": {
      "text/plain": [
       "53"
      ]
     },
     "execution_count": 75,
     "metadata": {},
     "output_type": "execute_result"
    }
   ],
   "source": [
    "# calculate the total number of each event type in San Diego\n",
    "\n",
    "sd_rain = sd2[sd2.Events.str.contains('Rain')]\n",
    "len(sd_rain)"
   ]
  },
  {
   "cell_type": "code",
   "execution_count": 76,
   "metadata": {},
   "outputs": [
    {
     "data": {
      "text/plain": [
       "0"
      ]
     },
     "execution_count": 76,
     "metadata": {},
     "output_type": "execute_result"
    }
   ],
   "source": [
    "sd_snow = sd2[sd2.Events.str.contains('Snow')]\n",
    "len(sd_snow)"
   ]
  },
  {
   "cell_type": "code",
   "execution_count": 77,
   "metadata": {},
   "outputs": [
    {
     "data": {
      "text/plain": [
       "5"
      ]
     },
     "execution_count": 77,
     "metadata": {},
     "output_type": "execute_result"
    }
   ],
   "source": [
    "sd_tstorm = sd2[sd2.Events.str.contains('Thunderstorm')]\n",
    "len(sd_tstorm)"
   ]
  },
  {
   "cell_type": "code",
   "execution_count": 78,
   "metadata": {},
   "outputs": [
    {
     "data": {
      "text/plain": [
       "20"
      ]
     },
     "execution_count": 78,
     "metadata": {},
     "output_type": "execute_result"
    }
   ],
   "source": [
    "sd_fog = sd2[sd2.Events.str.contains('Fog')]\n",
    "len(sd_fog)"
   ]
  },
  {
   "cell_type": "code",
   "execution_count": 79,
   "metadata": {},
   "outputs": [
    {
     "data": {
      "text/plain": [
       "295"
      ]
     },
     "execution_count": 79,
     "metadata": {},
     "output_type": "execute_result"
    }
   ],
   "source": [
    "sd_none = sd2[sd2.Events.str.contains('None')]\n",
    "len(sd_none)"
   ]
  },
  {
   "cell_type": "code",
   "execution_count": 80,
   "metadata": {},
   "outputs": [
    {
     "data": {
      "text/html": [
       "<div>\n",
       "<style>\n",
       "    .dataframe thead tr:only-child th {\n",
       "        text-align: right;\n",
       "    }\n",
       "\n",
       "    .dataframe thead th {\n",
       "        text-align: left;\n",
       "    }\n",
       "\n",
       "    .dataframe tbody tr th {\n",
       "        vertical-align: top;\n",
       "    }\n",
       "</style>\n",
       "<table border=\"1\" class=\"dataframe\">\n",
       "  <thead>\n",
       "    <tr style=\"text-align: right;\">\n",
       "      <th></th>\n",
       "      <th>Event Count</th>\n",
       "    </tr>\n",
       "  </thead>\n",
       "  <tbody>\n",
       "    <tr>\n",
       "      <th>Rain</th>\n",
       "      <td>136</td>\n",
       "    </tr>\n",
       "    <tr>\n",
       "      <th>Snow</th>\n",
       "      <td>23</td>\n",
       "    </tr>\n",
       "    <tr>\n",
       "      <th>Thunderstorm</th>\n",
       "      <td>26</td>\n",
       "    </tr>\n",
       "    <tr>\n",
       "      <th>Fog</th>\n",
       "      <td>14</td>\n",
       "    </tr>\n",
       "    <tr>\n",
       "      <th>None</th>\n",
       "      <td>213</td>\n",
       "    </tr>\n",
       "  </tbody>\n",
       "</table>\n",
       "</div>"
      ],
      "text/plain": [
       "              Event Count\n",
       "Rain                  136\n",
       "Snow                   23\n",
       "Thunderstorm           26\n",
       "Fog                    14\n",
       "None                  213"
      ]
     },
     "execution_count": 80,
     "metadata": {},
     "output_type": "execute_result"
    }
   ],
   "source": [
    "# create some new dataframes from this data!\n",
    "\n",
    "phl_weather = pd.DataFrame(data = [136,23,26,14,213], index=['Rain', 'Snow', 'Thunderstorm', 'Fog','None'], columns = ['Event Count'])\n",
    "phl_weather"
   ]
  },
  {
   "cell_type": "code",
   "execution_count": 81,
   "metadata": {},
   "outputs": [
    {
     "data": {
      "text/html": [
       "<div>\n",
       "<style>\n",
       "    .dataframe thead tr:only-child th {\n",
       "        text-align: right;\n",
       "    }\n",
       "\n",
       "    .dataframe thead th {\n",
       "        text-align: left;\n",
       "    }\n",
       "\n",
       "    .dataframe tbody tr th {\n",
       "        vertical-align: top;\n",
       "    }\n",
       "</style>\n",
       "<table border=\"1\" class=\"dataframe\">\n",
       "  <thead>\n",
       "    <tr style=\"text-align: right;\">\n",
       "      <th></th>\n",
       "      <th>Event Count</th>\n",
       "    </tr>\n",
       "  </thead>\n",
       "  <tbody>\n",
       "    <tr>\n",
       "      <th>Rain</th>\n",
       "      <td>53</td>\n",
       "    </tr>\n",
       "    <tr>\n",
       "      <th>Thunderstorm</th>\n",
       "      <td>5</td>\n",
       "    </tr>\n",
       "    <tr>\n",
       "      <th>Fog</th>\n",
       "      <td>20</td>\n",
       "    </tr>\n",
       "    <tr>\n",
       "      <th>None</th>\n",
       "      <td>295</td>\n",
       "    </tr>\n",
       "  </tbody>\n",
       "</table>\n",
       "</div>"
      ],
      "text/plain": [
       "              Event Count\n",
       "Rain                   53\n",
       "Thunderstorm            5\n",
       "Fog                    20\n",
       "None                  295"
      ]
     },
     "execution_count": 81,
     "metadata": {},
     "output_type": "execute_result"
    }
   ],
   "source": [
    "# don't include snow in sd_weather table because San Diego had no snow in 2016\n",
    "\n",
    "sd_weather = pd.DataFrame(data = [53,5,20,295], index=['Rain', 'Thunderstorm', 'Fog','None'], columns = ['Event Count'])\n",
    "sd_weather"
   ]
  },
  {
   "cell_type": "code",
   "execution_count": 82,
   "metadata": {},
   "outputs": [
    {
     "data": {
      "text/plain": [
       "([<matplotlib.patches.Wedge at 0x11301ab70>,\n",
       "  <matplotlib.patches.Wedge at 0x1130227b8>,\n",
       "  <matplotlib.patches.Wedge at 0x113029438>,\n",
       "  <matplotlib.patches.Wedge at 0x1130330b8>,\n",
       "  <matplotlib.patches.Wedge at 0x113033cf8>],\n",
       " [<matplotlib.text.Text at 0x1130222e8>,\n",
       "  <matplotlib.text.Text at 0x113022f28>,\n",
       "  <matplotlib.text.Text at 0x113029ba8>,\n",
       "  <matplotlib.text.Text at 0x113033828>,\n",
       "  <matplotlib.text.Text at 0x11303d4a8>])"
      ]
     },
     "execution_count": 82,
     "metadata": {},
     "output_type": "execute_result"
    },
    {
     "data": {
      "image/png": "[encoded data removed]",
      "text/plain": [
       "<matplotlib.figure.Figure at 0x112cf7d30>"
      ]
     },
     "metadata": {},
     "output_type": "display_data"
    }
   ],
   "source": [
    "# finally, make some pie charts!\n",
    "\n",
    "#size the figure\n",
    "plt.figure(figsize=(8,9))\n",
    "\n",
    "#give it a title\n",
    "plt.title('Philly % of Days With Precipitation (2016)', size = 'x-large')\n",
    "\n",
    "#plot the data\n",
    "plt.pie(phl_weather['Event Count'], labels=['Rain', 'Snow', 'Thunderstorm','Fog','No Precipitation'])"
   ]
  },
  {
   "cell_type": "code",
   "execution_count": 83,
   "metadata": {},
   "outputs": [
    {
     "data": {
      "text/plain": [
       "([<matplotlib.patches.Wedge at 0x1131c4160>,\n",
       "  <matplotlib.patches.Wedge at 0x1131c4da0>,\n",
       "  <matplotlib.patches.Wedge at 0x1131cba20>,\n",
       "  <matplotlib.patches.Wedge at 0x1131d46a0>],\n",
       " [<matplotlib.text.Text at 0x1131c48d0>,\n",
       "  <matplotlib.text.Text at 0x1131cb550>,\n",
       "  <matplotlib.text.Text at 0x1131d41d0>,\n",
       "  <matplotlib.text.Text at 0x1131d4e10>])"
      ]
     },
     "execution_count": 83,
     "metadata": {},
     "output_type": "execute_result"
    },
    {
     "data": {
      "image/png": "[encoded data removed]",
      "text/plain": [
       "<matplotlib.figure.Figure at 0x112fe1dd8>"
      ]
     },
     "metadata": {},
     "output_type": "display_data"
    }
   ],
   "source": [
    "#size another figure\n",
    "plt.figure(figsize=(8,9))\n",
    "\n",
    "#give it another title\n",
    "plt.title('San Diego % of Days With Precipitation (2016)', size = 'x-large')\n",
    "\n",
    "#plot the data\n",
    "plt.pie(sd_weather['Event Count'], labels=['Rain','Thunderstorm','Fog','No Precipitation'])"
   ]
  },
  {
   "cell_type": "markdown",
   "metadata": {},
   "source": [
    "We can see from these pie charts that San Diego has far fewer days of precipitation than Philadelphia (if we count fog as precipitation). Also, San Diego had 0 days of snow in 2016! This also makes SD seem like a better city to live in than Philadelphia, based on weather. *sigh*"
   ]
  }
 ],
 "metadata": {
  "kernelspec": {
   "display_name": "Python 3",
   "language": "python",
   "name": "python3"
  },
  "language_info": {
   "codemirror_mode": {
    "name": "ipython",
    "version": 3
   },
   "file_extension": ".py",
   "mimetype": "text/x-python",
   "name": "python",
   "nbconvert_exporter": "python",
   "pygments_lexer": "ipython3",
   "version": "3.6.1"
  }
 },
 "nbformat": 4,
 "nbformat_minor": 1
}
